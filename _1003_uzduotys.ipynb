{
 "cells": [
  {
   "cell_type": "markdown",
   "metadata": {},
   "source": [
    "1. Turime logo su peršviečiamu fonu, dydis 128*128. Atsisiųskite, ir perdarykite taip, kad nuo viršaus ir apačios nusiimtų po 28 eilutes pikselių. Išsisaugokite, nes naudosime sekančioms užduotims."
   ]
  },
  {
   "cell_type": "code",
   "execution_count": 3,
   "metadata": {},
   "outputs": [
    {
     "data": {
      "text/plain": [
       "(128, 128)"
      ]
     },
     "execution_count": 3,
     "metadata": {},
     "output_type": "execute_result"
    }
   ],
   "source": [
    "from PIL import Image\n",
    "mini = Image.open(\"image/logo.png\")\n",
    "mini.size"
   ]
  },
  {
   "cell_type": "code",
   "execution_count": 41,
   "metadata": {},
   "outputs": [
    {
     "data": {
      "text/plain": [
       "(128, 72)"
      ]
     },
     "execution_count": 41,
     "metadata": {},
     "output_type": "execute_result"
    }
   ],
   "source": [
    "mini_sumazintas = mini.crop((0, 28, 128, 100))\n",
    "mini_sumazintas.save(\"image/logo_cropped.png\")\n",
    "mini_sumazintas.show()\n",
    "mini_sumazintas.size"
   ]
  },
  {
   "cell_type": "markdown",
   "metadata": {},
   "source": [
    "2. sukurkite funkciją, kuri priimtų: 1)paveikslėlį, 2)kontrasto, spalvingumo, aštrumo ir ryškumo reikšmes 3)išsaugoti ar ne reikšmę\n",
    "ir atitinkamai pakoreguotų paveikslėlio nustatymus. Parodytų nuotrauką ekrane. Priklausomai nuo pasirinkimo, išsaugotų arba ne. Išsaugokite faile, prie originalaus pavadinimo pridėję pvz. '_modified', tarkime dog_modified.jpg."
   ]
  },
  {
   "cell_type": "code",
   "execution_count": 3,
   "metadata": {},
   "outputs": [],
   "source": [
    "from PIL import Image, ImageEnhance\n",
    "import os\n",
    "\n",
    "def enhance_image(pic, contrast, color, sharpness, brightness, save=False):\n",
    "    im = Image.open(pic)\n",
    "    enh = ImageEnhance.Contrast(im)\n",
    "    im = enh.enhance(contrast)\n",
    "    enh = ImageEnhance.Color(im)\n",
    "    im = enh.enhance(color)\n",
    "    enh = ImageEnhance.Brightness(im)\n",
    "    im = enh.enhance(brightness)\n",
    "    enh = ImageEnhance.Sharpness(im)\n",
    "    im = enh.enhance(sharpness)\n",
    "    if save:\n",
    "        loc = os.path.splitext(pic)[0]\n",
    "        ext = os.path.splitext(pic)[1]\n",
    "        im.save(f'{loc}_modified{ext}')\n",
    "    im.show()\n",
    "\n",
    "enhance_image('image/prim123.jpg', 2, 0, 5, 1, True)\n",
    "\n",
    "\n"
   ]
  },
  {
   "cell_type": "markdown",
   "metadata": {},
   "source": [
    "3. Sukurkite programą, kuri, gavusi nuorodą į katalogą, praiteruos visus jame esančius failus, išrinks nuotraukas, pakeis dydį pagal jūsų nurodytą aukštį išlaikant proporcijas, ir kiekvienos nuotraukos apatiniame dešiniajame kampe įdės logotipą, tą kurį išsisaugojote pirmoje užduotyje. Naudokite .resize, kadangi nuotrauką galbūt reikės padidinti, nebūtinai tik sumažinti."
   ]
  },
  {
   "cell_type": "code",
   "execution_count": 7,
   "metadata": {},
   "outputs": [
    {
     "data": {
      "text/plain": [
       "[]"
      ]
     },
     "execution_count": 7,
     "metadata": {},
     "output_type": "execute_result"
    }
   ],
   "source": [
    "from PIL import Image\n",
    "import os\n",
    "\n",
    "def get_list(folder):\n",
    "    files = os.listdir(folder)\n",
    "    images = []\n",
    "    for i in files:\n",
    "        if i.endswith((\".jpg\", \".png\")):\n",
    "            images.append(folder+'/'+i)\n",
    "    return images\n",
    "\n",
    "get_list(\"C:\\\\Users\\\\ingri\\\\Pictures\\\\senesni_laikai\")"
   ]
  },
  {
   "cell_type": "code",
   "execution_count": null,
   "metadata": {},
   "outputs": [],
   "source": [
    "def pic_resize(pic, height):\n",
    "    im = Image.open(pic)\n",
    "    width = round(im.size[1]/im.size[0]*height)\n",
    "    im = im.resize((height, width))\n",
    "    return im"
   ]
  },
  {
   "cell_type": "code",
   "execution_count": 16,
   "metadata": {},
   "outputs": [],
   "source": [
    "def optimize_images(folder, height):\n",
    "    os.mkdir(f'{folder}/image')\n",
    "    logo = Image.open('image/logo_cropped.png')\n",
    "    pic_num = 0\n",
    "    for i in get_list(folder):\n",
    "        pic = Image.open(i)\n",
    "        pic = pic_resize(i, height)\n",
    "        logo_location = (\n",
    "            pic.size[0]-logo.size[0],\n",
    "            pic.size[1]-logo.size[1], \n",
    "            pic.size[0], \n",
    "            pic.size[1])\n",
    "        pic.paste(logo, logo_location, logo)\n",
    "        pic_num += 1\n",
    "        pic.save(f'{folder}/optimized/picture_{pic_num}.png')"
   ]
  },
  {
   "cell_type": "markdown",
   "metadata": {},
   "source": [
    "4. Parašykite programą, kuriai padavus nuotrauką ir R G B reikšmes, ji pakoreguotų kiekvieną pikselį atitinkamai. T.y. jeigu reikšmė teigiama - pridėtų, jeigu neigiama - atimtų. Neleiskite galutinėms reikšmėms būti mažesnėmis už nulį ir didesnėmis už 255!"
   ]
  },
  {
   "cell_type": "code",
   "execution_count": 17,
   "metadata": {},
   "outputs": [],
   "source": [
    "def ribos(skaicius):\n",
    "    if skaicius < 0:\n",
    "        return 0\n",
    "    elif skaicius > 255:\n",
    "        return 255\n",
    "    return skaicius"
   ]
  },
  {
   "cell_type": "code",
   "execution_count": 21,
   "metadata": {},
   "outputs": [],
   "source": [
    "def adjust_colors(img, r, g, b):\n",
    "    img = Image.open(img)\n",
    "    data = img.getdata()\n",
    "    new_data = []\n",
    "    for pixel in data:\n",
    "        red = ribos(pixel[0] + r)\n",
    "        green = ribos(pixel[1] + g)\n",
    "        blue = ribos(pixel[2] + b)\n",
    "        new_pixel = (red, green, blue)\n",
    "        new_data.append(new_pixel)\n",
    "    img.putdata(new_data)\n",
    "    return img\n",
    "\n",
    "new_img = adjust_colors(\"image/prim123.jpg\", 0, 0, +80)\n",
    "new_img.show()"
   ]
  },
  {
   "cell_type": "markdown",
   "metadata": {},
   "source": [
    "5. Parašykite programą, kuriai padavus nuotrauką, ir nurodžius pikselio R G B reikšmes, visi pikseliai, kurių nors viena reikšmė viršija jūsų nurodytą ribą, būtų pakeisti juodais, o likusieji baltais."
   ]
  },
  {
   "cell_type": "code",
   "execution_count": 22,
   "metadata": {},
   "outputs": [],
   "source": [
    "def turn_binary(img, r, g, b):\n",
    "    img = Image.open(img)\n",
    "    data = img.getdata()\n",
    "    new_data = []\n",
    "    black = 0, 0, 0\n",
    "    white = 255, 255, 255\n",
    "    for pixel in data:\n",
    "        if pixel[0] >= r or pixel[1] >= g or pixel[2] >= b:\n",
    "            new_data.append(black)\n",
    "        else:\n",
    "            new_data.append(white)\n",
    "    \n",
    "    img.putdata(new_data)\n",
    "    return img\n",
    "\n",
    "image = turn_binary('image/prim123.jpg', 255, 255, 8)\n",
    "image.show()"
   ]
  }
 ],
 "metadata": {
  "kernelspec": {
   "display_name": "Python 3.10.7 ('venv': venv)",
   "language": "python",
   "name": "python3"
  },
  "language_info": {
   "codemirror_mode": {
    "name": "ipython",
    "version": 3
   },
   "file_extension": ".py",
   "mimetype": "text/x-python",
   "name": "python",
   "nbconvert_exporter": "python",
   "pygments_lexer": "ipython3",
   "version": "3.10.7"
  },
  "orig_nbformat": 4,
  "vscode": {
   "interpreter": {
    "hash": "d8c82d33abf6118c12299dc94b4ab7d9752250968001013f3737125b591cd400"
   }
  }
 },
 "nbformat": 4,
 "nbformat_minor": 2
}
