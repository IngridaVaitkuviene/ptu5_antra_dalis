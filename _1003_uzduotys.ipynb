{
 "cells": [
  {
   "cell_type": "markdown",
   "metadata": {},
   "source": [
    "1. Turime logo su peršviečiamu fonu, dydis 128*128. Atsisiųskite, ir perdarykite taip, kad nuo viršaus ir apačios nusiimtų po 28 eilutes pikselių. Išsisaugokite, nes naudosime sekančioms užduotims."
   ]
  },
  {
   "cell_type": "code",
   "execution_count": 3,
   "metadata": {},
   "outputs": [
    {
     "data": {
      "text/plain": [
       "(128, 128)"
      ]
     },
     "execution_count": 3,
     "metadata": {},
     "output_type": "execute_result"
    }
   ],
   "source": [
    "from PIL import Image\n",
    "mini = Image.open(\"image/logo.png\")\n",
    "mini.size"
   ]
  },
  {
   "cell_type": "code",
   "execution_count": 41,
   "metadata": {},
   "outputs": [
    {
     "data": {
      "text/plain": [
       "(128, 72)"
      ]
     },
     "execution_count": 41,
     "metadata": {},
     "output_type": "execute_result"
    }
   ],
   "source": [
    "mini_sumazintas = mini.crop((0, 28, 128, 100))\n",
    "mini_sumazintas.save(\"image/logo_cropped.png\")\n",
    "mini_sumazintas.show()\n",
    "mini_sumazintas.size"
   ]
  },
  {
   "cell_type": "markdown",
   "metadata": {},
   "source": [
    "2. sukurkite funkciją, kuri priimtų: 1)paveikslėlį, 2)kontrasto, spalvingumo, aštrumo ir ryškumo reikšmes 3)išsaugoti ar ne reikšmę\n",
    "ir atitinkamai pakoreguotų paveikslėlio nustatymus. Parodytų nuotrauką ekrane. Priklausomai nuo pasirinkimo, išsaugotų arba ne. Išsaugokite faile, prie originalaus pavadinimo pridėję pvz. '_modified', tarkime dog_modified.jpg."
   ]
  },
  {
   "cell_type": "code",
   "execution_count": 39,
   "metadata": {},
   "outputs": [],
   "source": [
    "from PIL import Image, ImageEnhance\n",
    "import os\n",
    "\n",
    "def enhance_image(pic, contrast, color, sharpness, brightness, save=False):\n",
    "    im = Image.open(pic)\n",
    "    enh = ImageEnhance.Contrast(im)\n",
    "    im = enh.enhance(contrast)\n",
    "    enh = ImageEnhance.Color(im)\n",
    "    im = enh.enhance(color)\n",
    "    enh = ImageEnhance.Brightness(im)\n",
    "    im = enh.enhance(brightness)\n",
    "    enh = ImageEnhance.Sharpness(im)\n",
    "    im = enh.enhance(sharpness)\n",
    "    if save:\n",
    "        loc = os.path.splitext(pic)[0]\n",
    "        ext = os.path.splitext(pic)[1]\n",
    "        im.save(f'{loc}_modified{ext}')\n",
    "    im.show()\n",
    "\n",
    "enhance_image('brown.jpg', 2, 0, 5, 1, True)\n",
    "\n",
    "\n"
   ]
  }
 ],
 "metadata": {
  "kernelspec": {
   "display_name": "Python 3.10.7 ('venv': venv)",
   "language": "python",
   "name": "python3"
  },
  "language_info": {
   "codemirror_mode": {
    "name": "ipython",
    "version": 3
   },
   "file_extension": ".py",
   "mimetype": "text/x-python",
   "name": "python",
   "nbconvert_exporter": "python",
   "pygments_lexer": "ipython3",
   "version": "3.10.7"
  },
  "orig_nbformat": 4,
  "vscode": {
   "interpreter": {
    "hash": "d8c82d33abf6118c12299dc94b4ab7d9752250968001013f3737125b591cd400"
   }
  }
 },
 "nbformat": 4,
 "nbformat_minor": 2
}
