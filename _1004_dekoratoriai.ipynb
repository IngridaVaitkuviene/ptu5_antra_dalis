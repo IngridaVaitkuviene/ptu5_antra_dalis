{
 "cells": [
  {
   "cell_type": "markdown",
   "metadata": {},
   "source": [
    "# Dekoratoriai (funkcija funkcijoje)"
   ]
  },
  {
   "cell_type": "markdown",
   "metadata": {},
   "source": [
    "Dekoratoriai priima funkcijas, prie tų funkcijų prideda papildomą funkcionalumą, ir grąžina rezultatą. Dekoratorius yra šiek tiek sudėtinga perprasti, ir galbūt praktikoje patiems niekada neprireiks rašyti savo dekoratoriaus. Tačiau jų veikimo principą suprasti reikia todėl, kad su jais nuolat susidursime įvairiuose Python framework'uose. Tam, kad lengviau suprasti dekoratorius, pravartu susipažinti su higher order functions (aukštesnio rango funkcijos?)"
   ]
  },
  {
   "cell_type": "code",
   "execution_count": 1,
   "metadata": {},
   "outputs": [],
   "source": [
    "# Turime funkciją, kuri grąžina tekstą:\n",
    "def return_text(some_text):\n",
    "    return some_text"
   ]
  },
  {
   "cell_type": "code",
   "execution_count": 2,
   "metadata": {},
   "outputs": [],
   "source": [
    "# Taip pat naudojame f-ją, kuri į parametrus priima kažkokį tekstą ir šalia jo funkciją:\n",
    "def upper_text(text, func):\n",
    "    if type(text) != str:\n",
    "        raise ValueError(\"Argument type must be a string.\")\n",
    "    some_text = func(text)\n",
    "    return some_text.upper()\n",
    "# f-ja patikrina, ar gautas parametras yra string tipo ir grąžina rezultatą visomis didžiosiomis raidėmis."
   ]
  },
  {
   "cell_type": "code",
   "execution_count": 5,
   "metadata": {},
   "outputs": [],
   "source": [
    "# Tai yra vadinamoji higher order function, jai kaip antras parametras tinka bet kokia funkcija, kuri grąžina tekstą. Pvz.:\n",
    "def reversed_text(text):\n",
    "    return text[::-1]"
   ]
  },
  {
   "cell_type": "code",
   "execution_count": 8,
   "metadata": {},
   "outputs": [
    {
     "name": "stdout",
     "output_type": "stream",
     "text": [
      "AJICKNUF OIGYL OINSETSKUA\n"
     ]
    }
   ],
   "source": [
    "print(upper_text(\"aukstesnio lygio funkcija\", reversed_text))"
   ]
  },
  {
   "cell_type": "code",
   "execution_count": 9,
   "metadata": {},
   "outputs": [],
   "source": [
    "# Dabar pamėginsime analogišką rezultatą išgauti rašant dekoratorių. \n",
    "# Kaip matome, dekoratorius rašomas labai panašiai, kaip ir mūsų aukštesnio rango funkcija, tik jos turinys \"suvyniojamas\" į apvalkalą (wrapper). \n",
    "# Į dekoratoriaus parametrus dedame funkciją, kurią jis \"apgaubs\". Wrapper parametruose - tos funkcijos parametrai.\n",
    "def upper_decorator(func):\n",
    "    def wrapper(text):\n",
    "        if type(text) != str:\n",
    "            raise ValueError(\"Argument type must be a string.\")\n",
    "        some_text = func(text)\n",
    "        return some_text.upper()\n",
    "    return wrapper"
   ]
  },
  {
   "cell_type": "code",
   "execution_count": 12,
   "metadata": {},
   "outputs": [
    {
     "name": "stdout",
     "output_type": "stream",
     "text": [
      "TIESIOG DIDZIOSIOM TEKSTAS\n",
      "SATSKET SATSREVPA\n"
     ]
    }
   ],
   "source": [
    "# Parašius dekoratorių, python mums leidžia \"apvilkti\" savo funkcijas naudojant tokią sintaksę:\n",
    "# dekoratorius @upper_decorator\n",
    "@upper_decorator\n",
    "def return_text(some_text):\n",
    "    return some_text\n",
    "@upper_decorator\n",
    "def reversed_text(text):\n",
    "    return text[::-1]\n",
    "\n",
    "print(return_text(\"tiesiog didziosiom tekstas\"))\n",
    "print(reversed_text(\"apverstas tekstas\"))"
   ]
  },
  {
   "cell_type": "code",
   "execution_count": 13,
   "metadata": {},
   "outputs": [],
   "source": [
    "# Parašykime dekoratorių, kuris priima visas tris funkcijas:\n",
    "# dekoratorius:\n",
    "def lyginis_nelyginis(func):\n",
    "    # sita funkcija visada vadinsis wrapper\n",
    "    def wrapper(*args, **kwargs):\n",
    "        result = func(*args, **kwargs)\n",
    "        if result % 2 != 0: #nelygus nuliui\n",
    "            return result, \"nelyginis\"\n",
    "        return result, \"lyginis\"\n",
    "    return wrapper"
   ]
  },
  {
   "cell_type": "code",
   "execution_count": 15,
   "metadata": {},
   "outputs": [],
   "source": [
    "# prieš tai nagrinėtas dekoratorius (grąžinantis ALL CAPS) turėjo trūkumą - jis priėmė funkcijas tik su fiksuotu kiekiu argumentų(1). \n",
    "# Galima rašyti lankstesnius dekoratorius. Tarkime, turime funkcijas, grąžinančias integer reikšmes:\n",
    "@lyginis_nelyginis\n",
    "def duok_desim():\n",
    "    return 10\n",
    "\n",
    "@lyginis_nelyginis\n",
    "def daugyba(x, y):\n",
    "    return x * y\n",
    "\n",
    "@lyginis_nelyginis\n",
    "def sumuoti_viskas(*args):\n",
    "    return sum(args)\n"
   ]
  },
  {
   "cell_type": "code",
   "execution_count": 16,
   "metadata": {},
   "outputs": [
    {
     "name": "stdout",
     "output_type": "stream",
     "text": [
      "(10, 'lyginis')\n",
      "(77, 'nelyginis')\n",
      "(21, 'nelyginis')\n"
     ]
    }
   ],
   "source": [
    "print(duok_desim())\n",
    "print(daugyba(11, 7))\n",
    "print(sumuoti_viskas(5, 4, 3, 2, 7))"
   ]
  },
  {
   "cell_type": "code",
   "execution_count": 40,
   "metadata": {},
   "outputs": [],
   "source": [
    "# pats dekoratorius neturi savyje metaduomenu\n",
    "def lyginis_nelyginis(func):\n",
    "    def wrapper(*args, **kwargs):\n",
    "        \"\"\"nurodo ar funkcijos rezultatas yra lyginis/nelyginis skaicius\"\"\"\n",
    "        result = func(*args, **kwargs)\n",
    "        if result % 2 != 0: \n",
    "            return result, \"nelyginis\"\n",
    "        return result, \"lyginis\"\n",
    "    return wrapper"
   ]
  },
  {
   "cell_type": "code",
   "execution_count": 41,
   "metadata": {},
   "outputs": [],
   "source": [
    "@lyginis_nelyginis\n",
    "def duok_desim():\n",
    "    \"\"\"grazina 10\"\"\"\n",
    "    return 10"
   ]
  },
  {
   "cell_type": "code",
   "execution_count": 42,
   "metadata": {},
   "outputs": [
    {
     "name": "stdout",
     "output_type": "stream",
     "text": [
      "wrapper\n",
      "nurodo ar funkcijos rezultatas yra lyginis/nelyginis skaicius\n"
     ]
    }
   ],
   "source": [
    "# pabandę atsispausdinti metaduomenis, gautumėm:\n",
    "print(duok_desim.__name__)\n",
    "print(duok_desim.__doc__)"
   ]
  },
  {
   "cell_type": "code",
   "execution_count": 33,
   "metadata": {},
   "outputs": [],
   "source": [
    "# bet jei panaudojam wraps dekoratoriu tada is dekoratoriaus nepaims to .__doc__\n",
    "from functools import wraps\n",
    "def lyginis_nelyginis(func):\n",
    "    @wraps(func)\n",
    "    def wrapper(*args, **kwargs):\n",
    "        \"\"\"nurodo ar funkcijos rezultatas yra lyginis/nelyginis skaicius\"\"\"\n",
    "        result = func(*args, **kwargs)\n",
    "        if result % 2 != 0: \n",
    "            return result, \"nelyginis\"\n",
    "        return result, \"lyginis\"\n",
    "    return wrapper"
   ]
  },
  {
   "cell_type": "code",
   "execution_count": 36,
   "metadata": {},
   "outputs": [],
   "source": [
    "@lyginis_nelyginis\n",
    "def duok_desim():\n",
    "    \"\"\"grazina 10\"\"\"\n",
    "    return 10"
   ]
  },
  {
   "cell_type": "code",
   "execution_count": 37,
   "metadata": {},
   "outputs": [
    {
     "name": "stdout",
     "output_type": "stream",
     "text": [
      "duok_desim\n",
      "grazina 10\n"
     ]
    }
   ],
   "source": [
    "# pabandę atsispausdinti metaduomenis, gautumėm:\n",
    "print(duok_desim.__name__)\n",
    "print(duok_desim.__doc__)\n"
   ]
  },
  {
   "cell_type": "markdown",
   "metadata": {},
   "source": [
    "Kaip sukurti dekoratorių su parametrais:"
   ]
  },
  {
   "cell_type": "code",
   "execution_count": 50,
   "metadata": {},
   "outputs": [],
   "source": [
    "from time import sleep\n",
    "\n",
    "def uzvelavimas(sekundes):\n",
    "    def uzvelavimas(func):\n",
    "        def wrapper(*args, **kwargs):\n",
    "            sleep(sekundes)\n",
    "            print(f\"pamiegojom {sekundes} sekundziu ir tada:\")\n",
    "            return func(*args, **kwargs)\n",
    "        return wrapper\n",
    "    return uzvelavimas"
   ]
  },
  {
   "cell_type": "code",
   "execution_count": 53,
   "metadata": {},
   "outputs": [],
   "source": [
    "def args_counter(func):\n",
    "    def wrapper(*args, **kwargs):\n",
    "        print(f\"Argumentu: {len(args)}, raktiniu argumentu: {len(kwargs)}\")\n",
    "        return func(*args, **kwargs)\n",
    "    return wrapper"
   ]
  },
  {
   "cell_type": "code",
   "execution_count": 51,
   "metadata": {},
   "outputs": [
    {
     "name": "stdout",
     "output_type": "stream",
     "text": [
      "pamiegojom 2 sekundziu ir tada:\n",
      "1\n",
      "2\n",
      "3\n",
      "4\n",
      "5\n"
     ]
    }
   ],
   "source": [
    "# kiek kartu kartojam cikla:\n",
    "@uzvelavimas(2)\n",
    "def skaiciuojam_iki_argumento(kartai):\n",
    "    for skaicius in range(kartai):\n",
    "        print(skaicius+1)\n",
    "\n",
    "skaiciuojam_iki_argumento(5)"
   ]
  },
  {
   "cell_type": "code",
   "execution_count": 54,
   "metadata": {},
   "outputs": [
    {
     "name": "stdout",
     "output_type": "stream",
     "text": [
      "pamiegojom 3 sekundziu ir tada:\n",
      "Argumentu: 6, raktiniu argumentu: 0\n",
      "18\n"
     ]
    }
   ],
   "source": [
    "@uzvelavimas(3)\n",
    "@args_counter\n",
    "def sumuojam(*args):\n",
    "    return sum(args)\n",
    "\n",
    "print(sumuojam(10, 20, 33, 11, -77, 21))"
   ]
  },
  {
   "cell_type": "markdown",
   "metadata": {},
   "source": [
    "Dabar ant funkcijos sumavimas uždėjome du dekoratorius – uzvelavimas (jis užvėlina programos paleidimą 3 sekundėmis) ir args_counter (jis suskaičiuoja funkcijai paduotus argumentus). Paleidus šią funkciją, ji pereina ir per abu dekoratorius ir padaro atitinkamą veiksmą."
   ]
  }
 ],
 "metadata": {
  "kernelspec": {
   "display_name": "Python 3.10.7 ('venv': venv)",
   "language": "python",
   "name": "python3"
  },
  "language_info": {
   "codemirror_mode": {
    "name": "ipython",
    "version": 3
   },
   "file_extension": ".py",
   "mimetype": "text/x-python",
   "name": "python",
   "nbconvert_exporter": "python",
   "pygments_lexer": "ipython3",
   "version": "3.10.7"
  },
  "orig_nbformat": 4,
  "vscode": {
   "interpreter": {
    "hash": "d8c82d33abf6118c12299dc94b4ab7d9752250968001013f3737125b591cd400"
   }
  }
 },
 "nbformat": 4,
 "nbformat_minor": 2
}
