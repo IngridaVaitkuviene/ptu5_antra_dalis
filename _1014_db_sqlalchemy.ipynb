{
 "cells": [
  {
   "cell_type": "markdown",
   "metadata": {},
   "source": [
    "# Darbas su SQLAlchemy"
   ]
  },
  {
   "cell_type": "markdown",
   "metadata": {},
   "source": [
    "Modulis SQLAlchemy susideda iš dviejų dalių:\n",
    "\n",
    "    SQL Alchemy Core – įrankis, skirtas manipuliuoti, modifikuoti ir paleisti įvairias SQL užklausas. Labai panašiai, kaip ir SQLite3, tik dirba su visomis duomenų bazėmis: https://docs.sqlalchemy.org/en/13/core/engines.html\n",
    "\n",
    "    SQL Alchemy ORM (ORM – Object Related Mapping) – įrankis, skirtas automatiškai susieti Python objektus su lentelėmis duomenų bazėje ir vykdyti įvairius veiksmus (CRUD), nenaudojant SQL užklausų\n",
    "\n",
    "SQLAlchemy nėra vienintelis ORM funkcionalumą siūlantis modulis. Net ir Python pagrindu yra sukurta daugiau įrankių. Panašius modulius turi JAVA (Hibernate), kitos programavimo kalbos."
   ]
  },
  {
   "cell_type": "markdown",
   "metadata": {},
   "source": [
    "# SQL Alchemy ORM"
   ]
  },
  {
   "cell_type": "code",
   "execution_count": 2,
   "metadata": {},
   "outputs": [],
   "source": [
    "import datetime\n",
    "from sqlalchemy import Column, Integer, String, Float, DateTime, create_engine\n",
    "from sqlalchemy.ext.declarative import declarative_base\n",
    "\n",
    "engine = create_engine('sqlite:///data/projektai.db')\n",
    "# declarative_base grazina klase, tai musu Base yra klase\n",
    "Base = declarative_base()"
   ]
  },
  {
   "cell_type": "code",
   "execution_count": 3,
   "metadata": {},
   "outputs": [],
   "source": [
    "# kuriam lentele per klase\n",
    "class Projektas(Base):\n",
    "    # čia nurodom lentelės pavadinimą\n",
    "    __tablename__ = 'Projektas'\n",
    "    # čia bus stulpelis\n",
    "    id = Column(Integer, primary_key=True)\n",
    "    # jei pavadinimas skiriasi nuo stulpelio pavadinimo, galima ji nusirodyti kabutese \"pavadinimas\"\n",
    "    name = Column(\"pavadinimas\", String)\n",
    "    price = Column(\"kaina\", Float)\n",
    "    created_date = Column(\"sukurta\", DateTime, default=datetime.datetime.utcnow)\n",
    "\n",
    "    def __init__(self, name, price):\n",
    "        self.name = name\n",
    "        self.price = price\n",
    "\n",
    "    def __repr__(self):\n",
    "        return f\"({self.id}, {self.name}, {self.price}, {self.created_date})\"\n"
   ]
  },
  {
   "cell_type": "code",
   "execution_count": 4,
   "metadata": {},
   "outputs": [],
   "source": [
    "# paleidziam\n",
    "Base.metadata.create_all(engine)"
   ]
  },
  {
   "cell_type": "markdown",
   "metadata": {},
   "source": [
    "# CRUD\n",
    "* create\n",
    "* read\n",
    "* update\n",
    "* delete"
   ]
  },
  {
   "cell_type": "markdown",
   "metadata": {},
   "source": [
    "Kaip įrašyti, nuskaityti, atnaujinti, ištrinti duomenis SQLAlchemy lentelėje?"
   ]
  },
  {
   "cell_type": "markdown",
   "metadata": {},
   "source": [
    "## Kaip sukurti ryšį su sukurta DB kitame faile:"
   ]
  },
  {
   "cell_type": "code",
   "execution_count": 5,
   "metadata": {},
   "outputs": [],
   "source": [
    "from sqlalchemy.orm import sessionmaker\n",
    "# cia Session padarem kaip klase\n",
    "# Session = sessionmaker(bind=engine)\n",
    "# session = Session()\n",
    "session = sessionmaker(bind=engine)()"
   ]
  },
  {
   "cell_type": "markdown",
   "metadata": {},
   "source": [
    "## Kaip įrašyti duomenis į lentelę:"
   ]
  },
  {
   "cell_type": "code",
   "execution_count": 6,
   "metadata": {},
   "outputs": [],
   "source": [
    "# create\n",
    "projektas1 = Projektas(\"Pirmas projektas\", 20000)\n",
    "session.add(projektas1)\n",
    "session.commit()"
   ]
  },
  {
   "cell_type": "code",
   "execution_count": 6,
   "metadata": {},
   "outputs": [],
   "source": [
    "projektas2 = Projektas(\"Antras projektas\", 55000)\n",
    "session.add(projektas2)\n",
    "session.commit()"
   ]
  },
  {
   "cell_type": "markdown",
   "metadata": {},
   "source": [
    "## Kaip gauti duomenis iš lentelės (cRud):"
   ]
  },
  {
   "cell_type": "code",
   "execution_count": 16,
   "metadata": {},
   "outputs": [
    {
     "data": {
      "text/plain": [
       "'Pirmas projektas'"
      ]
     },
     "execution_count": 16,
     "metadata": {},
     "output_type": "execute_result"
    }
   ],
   "source": [
    "# read one\n",
    "projektai = session.query(Projektas).get(1)\n",
    "# projektai\n",
    "projektai.name\n",
    "# projektai.price\n",
    "# type(projektai.price)"
   ]
  },
  {
   "cell_type": "code",
   "execution_count": 18,
   "metadata": {},
   "outputs": [
    {
     "name": "stdout",
     "output_type": "stream",
     "text": [
      "Pirmas projektas 20000.0\n",
      "Antras projektas 55000.0\n"
     ]
    }
   ],
   "source": [
    "# read many (cRud)\n",
    "projektai = session.query(Projektas).all()\n",
    "for projektas in projektai:\n",
    "    print(projektas.name, projektas.price)"
   ]
  },
  {
   "cell_type": "code",
   "execution_count": 21,
   "metadata": {},
   "outputs": [
    {
     "data": {
      "text/plain": [
       "[(1, Pirmas projektas, 20000.0, 2022-10-14 07:38:31.907104),\n",
       " (2, Antras projektas, 55000.0, 2022-10-14 07:40:14.603042)]"
      ]
     },
     "execution_count": 21,
     "metadata": {},
     "output_type": "execute_result"
    }
   ],
   "source": [
    "# search\n",
    "search = session.query(Projektas).filter(Projektas.name.ilike(\"%as\")).all()\n",
    "search"
   ]
  },
  {
   "cell_type": "code",
   "execution_count": 22,
   "metadata": {},
   "outputs": [
    {
     "data": {
      "text/plain": [
       "[(1, Pirmas projektas, 20000.0, 2022-10-14 07:38:31.907104)]"
      ]
     },
     "execution_count": 22,
     "metadata": {},
     "output_type": "execute_result"
    }
   ],
   "source": [
    "search = session.query(Projektas).filter(Projektas.name.ilike(\"pirmas%\")).all()\n",
    "search"
   ]
  },
  {
   "cell_type": "code",
   "execution_count": 23,
   "metadata": {},
   "outputs": [
    {
     "data": {
      "text/plain": [
       "[(2, Antras projektas, 55000.0, 2022-10-14 07:40:14.603042)]"
      ]
     },
     "execution_count": 23,
     "metadata": {},
     "output_type": "execute_result"
    }
   ],
   "source": [
    "search2 = session.query(Projektas).filter(Projektas.price > 25000).all()\n",
    "search2"
   ]
  },
  {
   "cell_type": "code",
   "execution_count": 25,
   "metadata": {},
   "outputs": [
    {
     "data": {
      "text/plain": [
       "[(2, Antras projektas, 55000.0, 2022-10-14 07:40:14.603042)]"
      ]
     },
     "execution_count": 25,
     "metadata": {},
     "output_type": "execute_result"
    }
   ],
   "source": [
    "search3 = session.query(Projektas).filter(\n",
    "    Projektas.price > 20000,\n",
    "    Projektas.name.ilike(\"Antras%\"),\n",
    ").all()\n",
    "search3"
   ]
  },
  {
   "cell_type": "code",
   "execution_count": 27,
   "metadata": {},
   "outputs": [],
   "source": [
    "# Update (crUd)\n",
    "atnaujinimas_projektas = session.query(Projektas).get(2)\n",
    "atnaujinimas_projektas.price = 51300\n",
    "session.commit()"
   ]
  },
  {
   "cell_type": "code",
   "execution_count": 28,
   "metadata": {},
   "outputs": [],
   "source": [
    "# Delete (cruD)\n",
    "trinamas = session.query(Projektas).filter(Projektas.id == 2).one()\n",
    "session.delete(trinamas)\n",
    "session.commit()\n"
   ]
  }
 ],
 "metadata": {
  "kernelspec": {
   "display_name": "Python 3.10.7 ('venv': venv)",
   "language": "python",
   "name": "python3"
  },
  "language_info": {
   "codemirror_mode": {
    "name": "ipython",
    "version": 3
   },
   "file_extension": ".py",
   "mimetype": "text/x-python",
   "name": "python",
   "nbconvert_exporter": "python",
   "pygments_lexer": "ipython3",
   "version": "3.10.7"
  },
  "orig_nbformat": 4,
  "vscode": {
   "interpreter": {
    "hash": "d8c82d33abf6118c12299dc94b4ab7d9752250968001013f3737125b591cd400"
   }
  }
 },
 "nbformat": 4,
 "nbformat_minor": 2
}
