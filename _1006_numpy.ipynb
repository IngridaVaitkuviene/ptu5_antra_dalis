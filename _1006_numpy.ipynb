{
 "cells": [
  {
   "cell_type": "markdown",
   "metadata": {},
   "source": [
    "# NumPY"
   ]
  },
  {
   "cell_type": "markdown",
   "metadata": {},
   "source": [
    "\n",
    "    NumPy yra tiesinės algebros biblioteka. Jos pagrindu sukurtos beveik visos su duomenų mokslu susijusios bibliotekos, tokios kaip Pandas ir kt. Numpy yra itin greita, nes yra susieta ryšiais(bindings) su C kalba parašytais moduliais.\n",
    "\n",
    "    Standartiškai įsidiegia pip install numpy, jeigu naudojate Anaconda - conda install numpy\n",
    "    Dažniausiai naudojamas NumPy ingredientas - NumPy masyvai. Jie būna dviejų tipų - vektoriai ir matricos.\n",
    "\n",
    "    Prieš pradedant darbą su NumPy, reikia jį importuoti.\n"
   ]
  },
  {
   "cell_type": "code",
   "execution_count": 2,
   "metadata": {},
   "outputs": [],
   "source": [
    "import numpy as np"
   ]
  },
  {
   "cell_type": "code",
   "execution_count": 5,
   "metadata": {},
   "outputs": [
    {
     "data": {
      "text/plain": [
       "array([5, 1, 3, 7, 6])"
      ]
     },
     "execution_count": 5,
     "metadata": {},
     "output_type": "execute_result"
    }
   ],
   "source": [
    "# tarkime, turime paprastą Python list'ą:\n",
    "sarasas = [5, 1, 3, 7, 6]\n",
    "\n",
    "# paverskime jį į NumPy array:\n",
    "vektorius = np.array(sarasas)\n",
    "vektorius\n",
    "\n",
    "#gauname 1 lygio NumPy masyvą (vektorių)."
   ]
  },
  {
   "cell_type": "code",
   "execution_count": 7,
   "metadata": {},
   "outputs": [
    {
     "data": {
      "text/plain": [
       "matrix([[4, 5, 6],\n",
       "        [1, 2, 3],\n",
       "        [7, 8, 9]])"
      ]
     },
     "execution_count": 7,
     "metadata": {},
     "output_type": "execute_result"
    }
   ],
   "source": [
    "# Jeigu norime matricos, turime sukurti keletą masyvų masyve:\n",
    "sarasai = [\n",
    "    [4, 5, 6],\n",
    "    [1, 2, 3],\n",
    "    [7, 8, 9]\n",
    "]\n",
    "matrica = np.matrix(sarasai)\n",
    "matrica"
   ]
  },
  {
   "cell_type": "code",
   "execution_count": 9,
   "metadata": {},
   "outputs": [
    {
     "data": {
      "text/plain": [
       "array([ 0,  7, 14, 21, 28, 35, 42, 49, 56, 63, 70, 77])"
      ]
     },
     "execution_count": 9,
     "metadata": {},
     "output_type": "execute_result"
    }
   ],
   "source": [
    "# NumPy turi ir integruotus, paprastus būdus susikurti masyvą. Skliausteliuose reikia įrašyti start, stop ir step(nebūtina) reikšmes:\n",
    "np.arange(0, 78, 7)"
   ]
  },
  {
   "cell_type": "code",
   "execution_count": 11,
   "metadata": {},
   "outputs": [
    {
     "name": "stdout",
     "output_type": "stream",
     "text": [
      "[0. 0. 0. 0. 0. 0. 0.]\n"
     ]
    }
   ],
   "source": [
    "# jeigu reikia vektoriaus iš nulių:\n",
    "print(np.zeros(7))"
   ]
  },
  {
   "cell_type": "code",
   "execution_count": 12,
   "metadata": {},
   "outputs": [
    {
     "name": "stdout",
     "output_type": "stream",
     "text": [
      "[[0. 0. 0. 0. 0. 0. 0.]\n",
      " [0. 0. 0. 0. 0. 0. 0.]\n",
      " [0. 0. 0. 0. 0. 0. 0.]\n",
      " [0. 0. 0. 0. 0. 0. 0.]\n",
      " [0. 0. 0. 0. 0. 0. 0.]\n",
      " [0. 0. 0. 0. 0. 0. 0.]\n",
      " [0. 0. 0. 0. 0. 0. 0.]]\n"
     ]
    }
   ],
   "source": [
    "# jeigu matricos iš nulių:\n",
    "print(np.zeros((7, 7)))"
   ]
  },
  {
   "cell_type": "code",
   "execution_count": 141,
   "metadata": {},
   "outputs": [
    {
     "data": {
      "text/plain": [
       "array([1., 1., 1., 1., 1., 1., 1., 1., 1., 1.])"
      ]
     },
     "execution_count": 141,
     "metadata": {},
     "output_type": "execute_result"
    }
   ],
   "source": [
    "# Analogiškai veikia np.ones metodas.\n",
    "vienetai = np.ones(10)\n",
    "vienetai"
   ]
  },
  {
   "cell_type": "code",
   "execution_count": 16,
   "metadata": {},
   "outputs": [
    {
     "name": "stdout",
     "output_type": "stream",
     "text": [
      "[ 0.  5. 10. 15. 20.]\n"
     ]
    }
   ],
   "source": [
    "# Dar viena naudinga funkcija - linspace. \n",
    "# Ji grąžina masyvą, su lygiais intervalais išdėliotomis reikšmėmis. \n",
    "# Reikia nurodyti start, stop ir intervalo reikšmes:\n",
    "print(np.linspace(0, 20, 5))"
   ]
  },
  {
   "cell_type": "code",
   "execution_count": 17,
   "metadata": {},
   "outputs": [
    {
     "name": "stdout",
     "output_type": "stream",
     "text": [
      "[[1. 0. 0. 0. 0.]\n",
      " [0. 1. 0. 0. 0.]\n",
      " [0. 0. 1. 0. 0.]\n",
      " [0. 0. 0. 1. 0.]\n",
      " [0. 0. 0. 0. 1.]]\n"
     ]
    }
   ],
   "source": [
    "# Jeigu prireikė vienetinės matricos:\n",
    "\n",
    "print(np.eye(5))"
   ]
  },
  {
   "cell_type": "code",
   "execution_count": 21,
   "metadata": {},
   "outputs": [
    {
     "name": "stdout",
     "output_type": "stream",
     "text": [
      "[[1 0 0 0 0 0 0]\n",
      " [0 1 0 0 0 0 0]\n",
      " [0 0 1 0 0 0 0]\n",
      " [0 0 0 1 5 0 0]\n",
      " [0 0 0 0 1 0 0]\n",
      " [0 0 0 0 0 1 0]\n",
      " [0 0 0 0 0 0 1]]\n"
     ]
    }
   ],
   "source": [
    "vienetine = np.eye(7, dtype=int)\n",
    "vienetine[3, 4] = 5\n",
    "print(vienetine)"
   ]
  },
  {
   "cell_type": "markdown",
   "metadata": {},
   "source": [
    "# Random array/matricos kūrimas"
   ]
  },
  {
   "cell_type": "code",
   "execution_count": 22,
   "metadata": {},
   "outputs": [
    {
     "data": {
      "text/plain": [
       "array([0.26926243, 0.82342427, 0.417445  , 0.92755919, 0.9457926 ,\n",
       "       0.12578951, 0.77656925, 0.60357571, 0.02090455, 0.02528824])"
      ]
     },
     "execution_count": 22,
     "metadata": {},
     "output_type": "execute_result"
    }
   ],
   "source": [
    "# Pirmas metodas susikurti random array - np.random.rand(). \n",
    "# Jo pagalba galime susikurti masyvą su atsitiktinėm reikšmėm nuo 0 iki 1 (\"uniform\" distribution)\n",
    "\n",
    "np.random.rand(10)"
   ]
  },
  {
   "cell_type": "code",
   "execution_count": 24,
   "metadata": {},
   "outputs": [
    {
     "name": "stdout",
     "output_type": "stream",
     "text": [
      "[[0.610774   0.75044776 0.86639586 0.9749449  0.38743193]\n",
      " [0.1380015  0.87279309 0.12134232 0.59739382 0.72627612]\n",
      " [0.16084439 0.81769508 0.42539956 0.52347655 0.55928316]\n",
      " [0.61376998 0.94831624 0.48352774 0.11583489 0.85507059]\n",
      " [0.57084262 0.7784828  0.95656195 0.24845184 0.98853037]]\n"
     ]
    }
   ],
   "source": [
    "# jeigu norime ne vektoriaus, o matricos:\n",
    "print(np.random.rand(5, 5))\n"
   ]
  },
  {
   "cell_type": "code",
   "execution_count": 25,
   "metadata": {},
   "outputs": [
    {
     "name": "stdout",
     "output_type": "stream",
     "text": [
      "[[ 0.01031619 -0.75150074 -1.42093813]\n",
      " [ 0.92820934  0.99033711  1.21285585]\n",
      " [-0.98969912  0.0825615  -0.16899248]]\n"
     ]
    }
   ],
   "source": [
    "# np.random.randn() sugeneruos reikšmes iš “standard normal” distribution (standartinis normalusis skirstinys)\n",
    "# negatyvios reiksmes\n",
    "print(np.random.randn(3, 3))\n"
   ]
  },
  {
   "cell_type": "code",
   "execution_count": 37,
   "metadata": {},
   "outputs": [
    {
     "name": "stdout",
     "output_type": "stream",
     "text": [
      "[ -9  -7  -9   9  -1  -3   6   3  -7  -8   1  -8  10   0   1  -2   9  -7\n",
      "   9   8   1  -9  -2  -3 -10  -6  10 -10  -8  -9  -7  -3   8  -8   4   5\n",
      "  -2  -8  -8  -4  -2  -7   3   4   7   7  -7  -5   1  -4  -2   8  -7  -7\n",
      "   9   2   4   3  -1  -8  -9  -9   4   7   3   0  -9   2  -1   2   2  -6\n",
      "  -3 -10   1   2   3]\n"
     ]
    }
   ],
   "source": [
    "# np.random.randint() sugeneruoja atsitiktines integer reikšmes. \n",
    "# Parametruose reikia nurodyti, žemiausią, aukščiausią (neįskaitant) reikšmes ir norimą kiekį reikšmių.\n",
    "\n",
    "print(np.random.randint(-10, 11, 77))\n",
    "# iki yra neimtinai, tai jei nori iki 10, tai rasai 11, nes 10 nebepaima, jei rasai iki 10. "
   ]
  },
  {
   "cell_type": "markdown",
   "metadata": {},
   "source": [
    "# Masyvų pertvarkymas"
   ]
  },
  {
   "cell_type": "markdown",
   "metadata": {},
   "source": [
    "reshape() metodas leidžia mums performuoti turimą masyvą į kitą formą:\n"
   ]
  },
  {
   "cell_type": "code",
   "execution_count": 47,
   "metadata": {},
   "outputs": [
    {
     "name": "stdout",
     "output_type": "stream",
     "text": [
      "[[-98  36  43  71   6 -34 -80 -40]\n",
      " [-20  74 -23 -67   1 -29 -97  18]\n",
      " [  5  33 -95 -17   3  65 -59  -2]\n",
      " [  1  42  84 -10   9  95  44 -35]\n",
      " [ 83 -68  35  57 -37   0  -3  74]]\n"
     ]
    }
   ],
   "source": [
    "# perdarem masyva i 7x7 matrica\n",
    "# paskutinis skaicius skliaustuose, siuo atveju 40, turi sutapti su pertvarkyto masyvo skliaustuose skaiciu daugyba 5*8, kitaip mes klaida\n",
    "masyvas = np.random.randint(-99, 100, 40)\n",
    "pertvarkyta = masyvas.reshape(5, 8)\n",
    "print(pertvarkyta)\n",
    "\n"
   ]
  },
  {
   "cell_type": "markdown",
   "metadata": {},
   "source": [
    "# Naudingi Metodai"
   ]
  },
  {
   "cell_type": "code",
   "execution_count": 48,
   "metadata": {},
   "outputs": [
    {
     "name": "stdout",
     "output_type": "stream",
     "text": [
      "-98\n",
      "95\n"
     ]
    }
   ],
   "source": [
    "# max() ir .min() metodai ištraukia maksimalią ir minimalią reikšmes iš masyvo:\n",
    "print(pertvarkyta.min())\n",
    "print(pertvarkyta.max())"
   ]
  },
  {
   "cell_type": "code",
   "execution_count": 49,
   "metadata": {},
   "outputs": [
    {
     "name": "stdout",
     "output_type": "stream",
     "text": [
      "0\n",
      "29\n"
     ]
    }
   ],
   "source": [
    "# argmax() ir argmin() nurodo mums maksimalios ir minimalios reikšmių indeksą:\n",
    "print(pertvarkyta.argmin())\n",
    "print(pertvarkyta.argmax())"
   ]
  },
  {
   "cell_type": "code",
   "execution_count": 51,
   "metadata": {},
   "outputs": [
    {
     "name": "stdout",
     "output_type": "stream",
     "text": [
      "(5, 8)\n",
      "int32\n"
     ]
    }
   ],
   "source": [
    "# .shape nurodo, kokią formą turi mūsų masyvas:\n",
    "print(pertvarkyta.shape)\n",
    "\n",
    "# .dtype nurodo, koks duomenų tipas yra mūsų masyve:\n",
    "print(pertvarkyta.dtype)\n",
    "\n",
    "# cia yra ne funkcijos, o savybes\n"
   ]
  },
  {
   "cell_type": "markdown",
   "metadata": {},
   "source": [
    "# Indeksacija ir reikšmių traukimas"
   ]
  },
  {
   "cell_type": "code",
   "execution_count": 54,
   "metadata": {},
   "outputs": [
    {
     "data": {
      "text/plain": [
       "-34"
      ]
     },
     "execution_count": 54,
     "metadata": {},
     "output_type": "execute_result"
    }
   ],
   "source": [
    "# reikšmę iš vektoriaus traukiame taip pat kaip ir iš Python sąrašo:\n",
    "masyvas[5]"
   ]
  },
  {
   "cell_type": "code",
   "execution_count": 55,
   "metadata": {},
   "outputs": [
    {
     "data": {
      "text/plain": [
       "array([ 71,   6, -34, -80, -40, -20,  74, -23, -67,   1])"
      ]
     },
     "execution_count": 55,
     "metadata": {},
     "output_type": "execute_result"
    }
   ],
   "source": [
    "# galime naudoti slices:\n",
    "masyvas[3:13]"
   ]
  },
  {
   "cell_type": "code",
   "execution_count": 59,
   "metadata": {},
   "outputs": [],
   "source": [
    "# galime pasirinktam rėžiui suteikti kokią nors savo reikšmę (Broadcasting):\n",
    "masyvas[::4] = 44\n",
    "masyvas[7] = 77\n",
    "masyvas[21] = -42"
   ]
  },
  {
   "cell_type": "code",
   "execution_count": 62,
   "metadata": {},
   "outputs": [
    {
     "data": {
      "text/plain": [
       "array([[ 44,  36,  43,  71,  44, -34, -80,  77,  44,  74],\n",
       "       [-23, -67,  44, -29, -97,  18,  44,  33, -95, -17],\n",
       "       [ 44, -42, -59,  -2,  44,  42,  84, -10,  44,  95],\n",
       "       [ 44, -35,  44, -68,  35,  57,  44,   0,  -3,  74]])"
      ]
     },
     "execution_count": 62,
     "metadata": {},
     "output_type": "execute_result"
    }
   ],
   "source": [
    "masyvas.reshape(4, 10) # kas 4 reiksmei priskirta 44"
   ]
  },
  {
   "cell_type": "code",
   "execution_count": 64,
   "metadata": {},
   "outputs": [
    {
     "data": {
      "text/plain": [
       "44"
      ]
     },
     "execution_count": 64,
     "metadata": {},
     "output_type": "execute_result"
    }
   ],
   "source": [
    "pertvarkyta[0, 0]"
   ]
  },
  {
   "cell_type": "markdown",
   "metadata": {},
   "source": [
    "# Reikšmių traukimas iš matricos"
   ]
  },
  {
   "cell_type": "code",
   "execution_count": 66,
   "metadata": {},
   "outputs": [
    {
     "data": {
      "text/plain": [
       "array([[-29, -97,  18],\n",
       "       [-42, -59,  -2],\n",
       "       [ 95,  44, -35]])"
      ]
     },
     "execution_count": 66,
     "metadata": {},
     "output_type": "execute_result"
    }
   ],
   "source": [
    "pertvarkyta[1:4, 5:8]"
   ]
  },
  {
   "cell_type": "code",
   "execution_count": 67,
   "metadata": {},
   "outputs": [
    {
     "data": {
      "text/plain": [
       "array([[ 8, 67, 14, 77, 43, 78, 85,  0, 90, 47],\n",
       "       [47, 25,  2, 69, 43, 36, 23, 32, 41, 57],\n",
       "       [31, 36, 90, 80, 13, 18, 85, 41, 83, 86],\n",
       "       [94, 91, 50, 62, 98,  7, 25, 57, 18, 99],\n",
       "       [83, 46, 32, 46, 37, 50, 53,  1, 14, 97],\n",
       "       [75, 79,  7, 30, 93, 53, 66, 17, 71, 77],\n",
       "       [83, 39, 67, 81, 86, 25, 90, 68, 83, 62],\n",
       "       [91, 32, 91, 20, 43,  6,  8, 57, 96, 27],\n",
       "       [51, 92,  6, 63, 10, 99, 35, 61, 79, 97],\n",
       "       [58, 49, 47, 54, 61, 33, 93, 20, 82, 34]])"
      ]
     },
     "execution_count": 67,
     "metadata": {},
     "output_type": "execute_result"
    }
   ],
   "source": [
    "masyvas = np.random.randint(0, 100, 100)\n",
    "matrica = masyvas.reshape(10, 10)\n",
    "matrica"
   ]
  },
  {
   "cell_type": "code",
   "execution_count": 68,
   "metadata": {},
   "outputs": [
    {
     "data": {
      "text/plain": [
       "array([[ 8, 14, 43, 85, 90],\n",
       "       [31, 90, 13, 85, 83],\n",
       "       [83, 32, 37, 53, 14],\n",
       "       [83, 67, 86, 90, 83],\n",
       "       [51,  6, 10, 35, 79]])"
      ]
     },
     "execution_count": 68,
     "metadata": {},
     "output_type": "execute_result"
    }
   ],
   "source": [
    "# laužtiniuose skliausteliuose pirmiau nurodome eilutę, paskui tos eilutės nario indeksą.\n",
    "# taip pat galime naudoti rėžius:\n",
    "matrica[::2, ::2]"
   ]
  },
  {
   "cell_type": "code",
   "execution_count": 69,
   "metadata": {},
   "outputs": [
    {
     "data": {
      "text/plain": [
       "array([[79, 35, 10,  6, 51],\n",
       "       [83, 90, 86, 67, 83],\n",
       "       [14, 53, 37, 32, 83],\n",
       "       [83, 85, 13, 90, 31],\n",
       "       [90, 85, 43, 14,  8]])"
      ]
     },
     "execution_count": 69,
     "metadata": {},
     "output_type": "execute_result"
    }
   ],
   "source": [
    "matrica[-2::-2, -2::-2]"
   ]
  },
  {
   "cell_type": "code",
   "execution_count": 70,
   "metadata": {},
   "outputs": [
    {
     "data": {
      "text/plain": [
       "array([[ 8],\n",
       "       [47],\n",
       "       [31],\n",
       "       [94],\n",
       "       [83],\n",
       "       [75],\n",
       "       [83],\n",
       "       [91],\n",
       "       [51],\n",
       "       [58]])"
      ]
     },
     "execution_count": 70,
     "metadata": {},
     "output_type": "execute_result"
    }
   ],
   "source": [
    "# jei norim pirmo stulpelio\n",
    "matrica[:, :1]"
   ]
  },
  {
   "cell_type": "code",
   "execution_count": 71,
   "metadata": {},
   "outputs": [
    {
     "data": {
      "text/plain": [
       "array([[67],\n",
       "       [25],\n",
       "       [36],\n",
       "       [91],\n",
       "       [46],\n",
       "       [79],\n",
       "       [39],\n",
       "       [32],\n",
       "       [92],\n",
       "       [49]])"
      ]
     },
     "execution_count": 71,
     "metadata": {},
     "output_type": "execute_result"
    }
   ],
   "source": [
    "# jei norim antro stulpelio\n",
    "matrica[:, 1:2]"
   ]
  },
  {
   "cell_type": "code",
   "execution_count": 72,
   "metadata": {},
   "outputs": [
    {
     "data": {
      "text/plain": [
       "array([[ 8, 67],\n",
       "       [47, 25],\n",
       "       [31, 36],\n",
       "       [94, 91],\n",
       "       [83, 46],\n",
       "       [75, 79],\n",
       "       [83, 39],\n",
       "       [91, 32],\n",
       "       [51, 92],\n",
       "       [58, 49]])"
      ]
     },
     "execution_count": 72,
     "metadata": {},
     "output_type": "execute_result"
    }
   ],
   "source": [
    "# jei norim dvieju stulpeliu\n",
    "matrica[:, 0:2]"
   ]
  },
  {
   "cell_type": "markdown",
   "metadata": {},
   "source": [
    "# Reikšmių traukimas pagal sąlygą"
   ]
  },
  {
   "cell_type": "code",
   "execution_count": 119,
   "metadata": {},
   "outputs": [
    {
     "data": {
      "text/plain": [
       "array([30, 67, 30, 77, 43, 78, 85, 30, 90, 47, 47, 30, 30, 69, 43, 36, 30,\n",
       "       32, 41, 57, 31, 36, 90, 80, 30, 30, 85, 41, 83, 86, 99, 99, 99, 99,\n",
       "       99, 99, 99, 99, 99, 99, 99, 99, 99, 99, 99, 99, 99, 99, 99, 99, 99,\n",
       "       99, 99, 99, 99, 99, 99, 99, 99, 99, 83, 39, 67, 81, 86, 30, 90, 68,\n",
       "       83, 62, 91, 32, 91, 30, 43, 30, 30, 57, 96, 30, 51, 92, 30, 63, 30,\n",
       "       99, 35, 61, 79, 97, 58, 49, 47, 54, 61, 33, 93, 30, 82, 34])"
      ]
     },
     "execution_count": 119,
     "metadata": {},
     "output_type": "execute_result"
    }
   ],
   "source": [
    "# Tarkime, turime masyvą:\n",
    "masyvas"
   ]
  },
  {
   "cell_type": "code",
   "execution_count": 120,
   "metadata": {},
   "outputs": [
    {
     "data": {
      "text/plain": [
       "array([False,  True, False,  True,  True,  True,  True, False,  True,\n",
       "        True,  True, False, False,  True,  True,  True, False,  True,\n",
       "        True,  True,  True,  True,  True,  True, False, False,  True,\n",
       "        True,  True,  True,  True,  True,  True,  True,  True,  True,\n",
       "        True,  True,  True,  True,  True,  True,  True,  True,  True,\n",
       "        True,  True,  True,  True,  True,  True,  True,  True,  True,\n",
       "        True,  True,  True,  True,  True,  True,  True,  True,  True,\n",
       "        True,  True, False,  True,  True,  True,  True,  True,  True,\n",
       "        True, False,  True, False, False,  True,  True, False,  True,\n",
       "        True, False,  True, False,  True,  True,  True,  True,  True,\n",
       "        True,  True,  True,  True,  True,  True,  True, False,  True,\n",
       "        True])"
      ]
     },
     "execution_count": 120,
     "metadata": {},
     "output_type": "execute_result"
    }
   ],
   "source": [
    "masyvas > 30"
   ]
  },
  {
   "cell_type": "code",
   "execution_count": 121,
   "metadata": {},
   "outputs": [
    {
     "data": {
      "text/plain": [
       "array([67, 77, 43, 78, 85, 90, 47, 47, 69, 43, 36, 32, 41, 57, 31, 36, 90,\n",
       "       80, 85, 41, 83, 86, 99, 99, 99, 99, 99, 99, 99, 99, 99, 99, 99, 99,\n",
       "       99, 99, 99, 99, 99, 99, 99, 99, 99, 99, 99, 99, 99, 99, 99, 99, 99,\n",
       "       99, 83, 39, 67, 81, 86, 90, 68, 83, 62, 91, 32, 91, 43, 57, 96, 51,\n",
       "       92, 63, 99, 35, 61, 79, 97, 58, 49, 47, 54, 61, 33, 93, 82, 34])"
      ]
     },
     "execution_count": 121,
     "metadata": {},
     "output_type": "execute_result"
    }
   ],
   "source": [
    "# norime reiksmiu daugiau uz 30\n",
    "masyvas[masyvas > 30]"
   ]
  },
  {
   "cell_type": "code",
   "execution_count": 122,
   "metadata": {},
   "outputs": [
    {
     "name": "stdout",
     "output_type": "stream",
     "text": [
      "[False False False False False False False False False False False False\n",
      " False False False False False False False False False False False False\n",
      " False False False False False False False False False False False False\n",
      " False False False False False False False False False False False False\n",
      " False False False False False False False False False False False False\n",
      " False False False False False False False False False False False False\n",
      " False False False False False False False False False False False False\n",
      " False False False False False False False False False False False False\n",
      " False False False False]\n"
     ]
    }
   ],
   "source": [
    "iki_30 = masyvas < 30\n",
    "print(iki_30)"
   ]
  },
  {
   "cell_type": "code",
   "execution_count": 123,
   "metadata": {},
   "outputs": [
    {
     "data": {
      "text/plain": [
       "array([], dtype=int32)"
      ]
     },
     "execution_count": 123,
     "metadata": {},
     "output_type": "execute_result"
    }
   ],
   "source": [
    "masyvas[iki_30]"
   ]
  },
  {
   "cell_type": "code",
   "execution_count": 124,
   "metadata": {},
   "outputs": [
    {
     "data": {
      "text/plain": [
       "array([30, 67, 30, 77, 43, 78, 85, 30, 90, 47, 47, 30, 30, 69, 43, 36, 30,\n",
       "       32, 41, 57, 31, 36, 90, 80, 30, 30, 85, 41, 83, 86, 99, 99, 99, 99,\n",
       "       99, 99, 99, 99, 99, 99, 99, 99, 99, 99, 99, 99, 99, 99, 99, 99, 99,\n",
       "       99, 99, 99, 99, 99, 99, 99, 99, 99, 83, 39, 67, 81, 86, 30, 90, 68,\n",
       "       83, 62, 91, 32, 91, 30, 43, 30, 30, 57, 96, 30, 51, 92, 30, 63, 30,\n",
       "       99, 35, 61, 79, 97, 58, 49, 47, 54, 61, 33, 93, 30, 82, 34])"
      ]
     },
     "execution_count": 124,
     "metadata": {},
     "output_type": "execute_result"
    }
   ],
   "source": [
    "masyvas[iki_30] = 30\n",
    "masyvas"
   ]
  },
  {
   "cell_type": "markdown",
   "metadata": {},
   "source": [
    "# Numpy elgsenos ypatumai"
   ]
  },
  {
   "cell_type": "code",
   "execution_count": 125,
   "metadata": {},
   "outputs": [
    {
     "data": {
      "text/plain": [
       "array([ 0, 22,  0,  3,  1,  0, 22, 26,  0, 24,  0, 49,  0,  0, 20, 30, 49,\n",
       "       20,  0,  0])"
      ]
     },
     "execution_count": 125,
     "metadata": {},
     "output_type": "execute_result"
    }
   ],
   "source": [
    "naujas = np.random.randint(0, 100, 20)\n",
    "naujas[naujas > 50] = np.random.randint(0, 100)\n",
    "naujas"
   ]
  },
  {
   "cell_type": "code",
   "execution_count": 127,
   "metadata": {},
   "outputs": [
    {
     "name": "stdout",
     "output_type": "stream",
     "text": [
      "[56 19 60 11 47 81 64 60 27 94 39 18 62 10 80 31 17 12 90 82 72 72 92 70\n",
      " 87 37 46 36 76 94 23 28 53 50 47 12 41 42 30  3 12 64 11 59 53 53 31 54\n",
      " 20 62 24 53 37  3  9  2 27  7 82 88 98 48 55 73 60 43 65 85 80 65 73 27\n",
      " 97 25 20 12 71 93 71 72 75 15 70 46 94 11 20 93 20  4 82 10 67 11 80 78\n",
      " 39 85 67 78]\n",
      "[56 19 60 11 47 81 64 60 27 94 39 18 62 10 80 31 17 12 90 82 72 72 92 70\n",
      " 87 37 46 36 76 94 99 99 99 99 99 99 99 99 99 99 99 99 99 99 99 99 99 99\n",
      " 99 99 99 99 99 99 99 99 99 99 99 99 98 48 55 73 60 43 65 85 80 65 73 27\n",
      " 97 25 20 12 71 93 71 72 75 15 70 46 94 11 20 93 20  4 82 10 67 11 80 78\n",
      " 39 85 67 78]\n",
      "[99 99 99 99 99 99 99 99 99 99 99 99 99 99 99 99 99 99 99 99 99 99 99 99\n",
      " 99 99 99 99 99 99]\n"
     ]
    }
   ],
   "source": [
    "# turime random masyvą iš integer reikšmių. Susikurkime jo atraižą:\n",
    "# ispjova\n",
    "masyvas = np.random.randint(0, 100, 100)\n",
    "kopija = masyvas.copy()\n",
    "ispjova = kopija[30:60]\n",
    "ispjova[:] = 99\n",
    "print(masyvas)\n",
    "print(kopija)\n",
    "print(ispjova)\n"
   ]
  },
  {
   "cell_type": "markdown",
   "metadata": {},
   "source": [
    "Paprastai kuriant kintamąjį, užkulisiuose padaroma kopija šaltinio, iš kurio jis gaminamas (šiuo atveju pvz). Iš tos kopijos formuojamas naujas kintamasis. Tačiau NumPy atveju pakeitimai vykdomi originale, ir mums rodoma tik modifikuota to originalo dalis. NumPy pritaikytas darbui su milžiniškais kiekiais duomenų. Daryti laikinas jų kopijas atmintyje yra neefektyvu, ir nestabilu. Todėl, kai norime išsaugoti originalą, turime nurodyti, kad norėsime pasidaryti kopiją:"
   ]
  },
  {
   "cell_type": "code",
   "execution_count": 128,
   "metadata": {},
   "outputs": [
    {
     "data": {
      "text/plain": [
       "array([ True,  True,  True,  True,  True,  True,  True,  True,  True,\n",
       "        True,  True,  True,  True,  True,  True,  True,  True,  True,\n",
       "        True,  True,  True,  True,  True,  True,  True,  True,  True,\n",
       "        True,  True,  True,  True,  True,  True,  True,  True,  True,\n",
       "        True,  True,  True,  True,  True,  True,  True,  True,  True,\n",
       "        True,  True,  True,  True,  True,  True,  True,  True,  True,\n",
       "        True,  True,  True,  True,  True,  True,  True,  True,  True,\n",
       "        True,  True,  True,  True,  True,  True,  True,  True,  True,\n",
       "        True,  True,  True,  True,  True,  True,  True,  True,  True,\n",
       "        True,  True,  True,  True,  True,  True,  True,  True,  True,\n",
       "        True,  True,  True,  True,  True,  True,  True,  True,  True,\n",
       "        True])"
      ]
     },
     "execution_count": 128,
     "metadata": {},
     "output_type": "execute_result"
    }
   ],
   "source": [
    "masyvas.copy() == masyvas"
   ]
  },
  {
   "cell_type": "code",
   "execution_count": 129,
   "metadata": {},
   "outputs": [
    {
     "data": {
      "text/plain": [
       "array([56, 47, 39, 31, 37, 46, 36, 53, 50, 47, 41, 42, 30, 59, 53, 53, 31,\n",
       "       54, 53, 37, 48, 55, 43, 46, 39])"
      ]
     },
     "execution_count": 129,
     "metadata": {},
     "output_type": "execute_result"
    }
   ],
   "source": [
    "tarpinis = masyvas[masyvas >= 30]\n",
    "tarpinis[tarpinis < 60]"
   ]
  },
  {
   "cell_type": "markdown",
   "metadata": {},
   "source": [
    "# Matematinės operacijos ir funkcijos"
   ]
  },
  {
   "cell_type": "markdown",
   "metadata": {},
   "source": [
    "su NumPy arrays galima atlikti paprastus aritmetinius veiksmus:"
   ]
  },
  {
   "cell_type": "code",
   "execution_count": 130,
   "metadata": {},
   "outputs": [
    {
     "data": {
      "text/plain": [
       "array([ 1,  2,  3,  4,  5,  6,  7,  8,  9, 10])"
      ]
     },
     "execution_count": 130,
     "metadata": {},
     "output_type": "execute_result"
    }
   ],
   "source": [
    "vektorius = np.arange(1, 11, 1)\n",
    "vektorius"
   ]
  },
  {
   "cell_type": "code",
   "execution_count": 131,
   "metadata": {},
   "outputs": [
    {
     "data": {
      "text/plain": [
       "array([ 2,  4,  6,  8, 10, 12, 14, 16, 18, 20])"
      ]
     },
     "execution_count": 131,
     "metadata": {},
     "output_type": "execute_result"
    }
   ],
   "source": [
    "vektorius + vektorius"
   ]
  },
  {
   "cell_type": "code",
   "execution_count": 132,
   "metadata": {},
   "outputs": [
    {
     "data": {
      "text/plain": [
       "array([0, 0, 0, 0, 0, 0, 0, 0, 0, 0])"
      ]
     },
     "execution_count": 132,
     "metadata": {},
     "output_type": "execute_result"
    }
   ],
   "source": [
    "vektorius - vektorius"
   ]
  },
  {
   "cell_type": "code",
   "execution_count": 133,
   "metadata": {},
   "outputs": [
    {
     "data": {
      "text/plain": [
       "array([         1,          4,         27,        256,       3125,\n",
       "            46656,     823543,   16777216,  387420489, 1410065408])"
      ]
     },
     "execution_count": 133,
     "metadata": {},
     "output_type": "execute_result"
    }
   ],
   "source": [
    "vektorius ** vektorius"
   ]
  },
  {
   "cell_type": "code",
   "execution_count": 134,
   "metadata": {},
   "outputs": [
    {
     "data": {
      "text/plain": [
       "array([   1,    8,   27,   64,  125,  216,  343,  512,  729, 1000],\n",
       "      dtype=int32)"
      ]
     },
     "execution_count": 134,
     "metadata": {},
     "output_type": "execute_result"
    }
   ],
   "source": [
    "vektorius ** 3"
   ]
  },
  {
   "cell_type": "code",
   "execution_count": 135,
   "metadata": {},
   "outputs": [
    {
     "data": {
      "text/plain": [
       "array([  1.,   4.,   9.,  16.,  25.,  36.,  49.,  64.,  81., 100.])"
      ]
     },
     "execution_count": 135,
     "metadata": {},
     "output_type": "execute_result"
    }
   ],
   "source": [
    "vektorius ** 3 / vektorius"
   ]
  },
  {
   "cell_type": "code",
   "execution_count": 136,
   "metadata": {},
   "outputs": [
    {
     "name": "stderr",
     "output_type": "stream",
     "text": [
      "C:\\Users\\ingri\\AppData\\Local\\Temp\\ipykernel_24768\\17242066.py:1: RuntimeWarning: divide by zero encountered in divide\n",
      "  vektorius / 0\n"
     ]
    },
    {
     "data": {
      "text/plain": [
       "array([inf, inf, inf, inf, inf, inf, inf, inf, inf, inf])"
      ]
     },
     "execution_count": 136,
     "metadata": {},
     "output_type": "execute_result"
    }
   ],
   "source": [
    "vektorius / 0"
   ]
  },
  {
   "cell_type": "code",
   "execution_count": 137,
   "metadata": {},
   "outputs": [
    {
     "data": {
      "text/plain": [
       "array([10.1, 10.2, 10.3, 10.4, 10.5, 10.6, 10.7, 10.8, 10.9, 11. ])"
      ]
     },
     "execution_count": 137,
     "metadata": {},
     "output_type": "execute_result"
    }
   ],
   "source": [
    "# atkreipkite dėmesį, atlikus dalybą iš 0 gausime begalybes arba nan - not a number. Taip pat galime atlikti veiksmus ir su skaičiais:\n",
    "(vektorius + 100) / 10"
   ]
  },
  {
   "cell_type": "code",
   "execution_count": 138,
   "metadata": {},
   "outputs": [
    {
     "data": {
      "text/plain": [
       "array([ 0.84147098,  0.90929743,  0.14112001, -0.7568025 , -0.95892427,\n",
       "       -0.2794155 ,  0.6569866 ,  0.98935825,  0.41211849, -0.54402111])"
      ]
     },
     "execution_count": 138,
     "metadata": {},
     "output_type": "execute_result"
    }
   ],
   "source": [
    "# Numpy aplinkoje taip pat galime taikyti įvairias trigonometrines funkcijas ir tt.\n",
    "np.sin(vektorius)\n"
   ]
  },
  {
   "cell_type": "code",
   "execution_count": 139,
   "metadata": {},
   "outputs": [
    {
     "data": {
      "text/plain": [
       "array([ 1.55740772, -2.18503986, -0.14254654,  1.15782128, -3.38051501,\n",
       "       -0.29100619,  0.87144798, -6.79971146, -0.45231566,  0.64836083])"
      ]
     },
     "execution_count": 139,
     "metadata": {},
     "output_type": "execute_result"
    }
   ],
   "source": [
    "np.tan(vektorius)"
   ]
  },
  {
   "cell_type": "code",
   "execution_count": 140,
   "metadata": {},
   "outputs": [
    {
     "data": {
      "text/plain": [
       "array([0.        , 0.69314718, 1.09861229, 1.38629436, 1.60943791,\n",
       "       1.79175947, 1.94591015, 2.07944154, 2.19722458, 2.30258509])"
      ]
     },
     "execution_count": 140,
     "metadata": {},
     "output_type": "execute_result"
    }
   ],
   "source": [
    "np.log(vektorius)"
   ]
  }
 ],
 "metadata": {
  "kernelspec": {
   "display_name": "Python 3.10.7 ('venv': venv)",
   "language": "python",
   "name": "python3"
  },
  "language_info": {
   "codemirror_mode": {
    "name": "ipython",
    "version": 3
   },
   "file_extension": ".py",
   "mimetype": "text/x-python",
   "name": "python",
   "nbconvert_exporter": "python",
   "pygments_lexer": "ipython3",
   "version": "3.10.7"
  },
  "orig_nbformat": 4,
  "vscode": {
   "interpreter": {
    "hash": "d8c82d33abf6118c12299dc94b4ab7d9752250968001013f3737125b591cd400"
   }
  }
 },
 "nbformat": 4,
 "nbformat_minor": 2
}
