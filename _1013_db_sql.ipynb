{
 "cells": [
  {
   "cell_type": "markdown",
   "metadata": {},
   "source": [
    "# Darbas su SQL Python aplinkoje"
   ]
  },
  {
   "cell_type": "code",
   "execution_count": 3,
   "metadata": {},
   "outputs": [],
   "source": [
    "# importuojame tvarkylę sqlite3\n",
    "import sqlite3"
   ]
  },
  {
   "cell_type": "code",
   "execution_count": 4,
   "metadata": {},
   "outputs": [],
   "source": [
    "# sukūriame prisijungimo objektą connector. Jeigu prieš tai neturėjome failo zmones.db, jis sukuriamas automatiškai.\n",
    "connector = sqlite3.connect('data/zmones.db')\n",
    "# jo pagrindu sukūriam kursoriaus objektą cursor. Su jo metodais vykdomos SQL užklausos.\n",
    "cursor = connector.cursor()\n",
    "# query yra mūsų SQL užklausa.\n",
    "query = '''\n",
    "CREATE TABLE IF NOT EXISTS draugai (\n",
    "    first_name VARCHAR(50),\n",
    "    last_name VARCHAR(100),\n",
    "    email VARCHAR(255)\n",
    ");\n",
    "'''\n",
    "# į kursoriaus metodo excecute parametrus dedame savo užklausą vykdymui.\n",
    "cursor.execute(query)\n",
    "# connector.commit() - išsaugo pakeitimus duomenų bazėje.\n",
    "connector.commit()\n",
    "# connector.close() - uždarome atidarytą prisijungimą.\n",
    "connector.close()\n",
    "\n",
    "# Jeigu dar kartą leistumėm tą pačią programą, gautumėm klaidą, kadangi tokia lentelė jau sukurta. \n",
    "# Todėl programose kuriant lenteles, pravartu papildyti sąlyga:\n",
    "\n",
    "#CREATE TABLE IF NOT EXISTS lentelė (\n",
    "#    ...."
   ]
  },
  {
   "cell_type": "code",
   "execution_count": 7,
   "metadata": {},
   "outputs": [],
   "source": [
    "connector = sqlite3.connect('data/zmones.db')"
   ]
  },
  {
   "cell_type": "markdown",
   "metadata": {},
   "source": [
    "## Įrašymas"
   ]
  },
  {
   "cell_type": "code",
   "execution_count": 9,
   "metadata": {},
   "outputs": [],
   "source": [
    "# duomenų įterpimas\n",
    "query = '''\n",
    "INSERT INTO draugai\n",
    "(first_name, last_name, email)\n",
    "VALUES\n",
    "(\"Smagus\", \"Gerulis\", \"gerulis@gmail.com\")\n",
    "'''\n",
    "# context manager'is atidaro DB, atlieka reikiamus commit ir uždaro\n",
    "connector = sqlite3.connect(\"data/zmones.db\")\n",
    "with connector:\n",
    "    connector.cursor().execute(query)"
   ]
  },
  {
   "cell_type": "code",
   "execution_count": 16,
   "metadata": {},
   "outputs": [],
   "source": [
    "query = '''\n",
    "INSERT INTO draugai\n",
    "(first_name, last_name, email)\n",
    "VALUES\n",
    "(\"Geras\", \"Smagulis\", \"gerulis@gmail.com\")\n",
    "'''\n",
    "connector = sqlite3.connect(\"data/zmones.db\")\n",
    "with connector:\n",
    "    connector.cursor().execute(query)"
   ]
  },
  {
   "cell_type": "code",
   "execution_count": 24,
   "metadata": {},
   "outputs": [],
   "source": [
    "query = '''\n",
    "INSERT INTO draugai\n",
    "(first_name, last_name, email)\n",
    "VALUES\n",
    "(\"Geras\", \"Programuotojas\", \"coder@gmail.com\")\n",
    "'''\n",
    "connector = sqlite3.connect(\"data/zmones.db\")\n",
    "with connector:\n",
    "    connector.cursor().execute(query)"
   ]
  },
  {
   "cell_type": "markdown",
   "metadata": {},
   "source": [
    "## .fetchone()"
   ]
  },
  {
   "cell_type": "code",
   "execution_count": 26,
   "metadata": {},
   "outputs": [
    {
     "name": "stdout",
     "output_type": "stream",
     "text": [
      "('Smagus', 'Gerulis', 'gerulis@gmail.com')\n",
      "('Geras', 'Smagulis', 'gerulis@gmail.com')\n",
      "('Geras', 'Programuotojas', 'coder@gmail.com')\n",
      "None\n"
     ]
    }
   ],
   "source": [
    "# skaitome duomenų bazę (po vieną)\n",
    "with connector:\n",
    "    # kursorių reikia pasiimti į kintamąjį, nes jame nugula rezultato generatorius\n",
    "    cursor = connector.cursor()\n",
    "    cursor.execute(\"SELECT * FROM draugai;\")\n",
    "    print(cursor.fetchone())\n",
    "    print(cursor.fetchone()) # antrakart spausdinant ima antra irasa\n",
    "    print(cursor.fetchone())\n",
    "    print(cursor.fetchone()) # None, nes nebera ten daugiau eiluciu, tik trys"
   ]
  },
  {
   "cell_type": "markdown",
   "metadata": {},
   "source": [
    "## .fetchall()"
   ]
  },
  {
   "cell_type": "markdown",
   "metadata": {},
   "source": [
    "Jeigu rezultatų daugiau, negu vienas, .fetchone() mums spausdina pirmą rezultatą. Norint gauti juos visus, turėtumem naudoti .fetchall():"
   ]
  },
  {
   "cell_type": "code",
   "execution_count": 18,
   "metadata": {},
   "outputs": [
    {
     "name": "stdout",
     "output_type": "stream",
     "text": [
      "[('Smagus', 'Gerulis', 'gerulis@gmail.com'), ('Geras', 'Smagulis', 'gerulis@gmail.com')]\n"
     ]
    }
   ],
   "source": [
    "# nuskaitome visus duomenis į sąrašą su .fetchall()\n",
    "with connector:\n",
    "    cursor = connector.cursor()\n",
    "    cursor.execute(\"SELECT * FROM draugai;\")\n",
    "    print(cursor.fetchall())"
   ]
  },
  {
   "cell_type": "markdown",
   "metadata": {},
   "source": [
    "## Įrašų keitimas ir trynimas"
   ]
  },
  {
   "cell_type": "markdown",
   "metadata": {},
   "source": [
    "Įrašų atnaujinimui ir trynimui nereikia naudoti jokių specifinių metodų."
   ]
  },
  {
   "cell_type": "code",
   "execution_count": 15,
   "metadata": {},
   "outputs": [
    {
     "name": "stdout",
     "output_type": "stream",
     "text": [
      "[('Smagus', 'Gerulis', 'gerulis@gmail.com')]\n"
     ]
    }
   ],
   "source": [
    "# taisom situaciją\n",
    "with connector:\n",
    "    cursor = connector.cursor()\n",
    "    # slaptas sqlite'o irasas rowid\n",
    "    cursor.execute(\"DELETE FROM draugai WHERE rowid > 1;\")\n",
    "    cursor.execute(\"SELECT * FROM draugai;\")\n",
    "    print(cursor.fetchall())"
   ]
  },
  {
   "cell_type": "code",
   "execution_count": 31,
   "metadata": {},
   "outputs": [
    {
     "name": "stdout",
     "output_type": "stream",
     "text": [
      "[('Smagus', 'Gerulis', 'gerulis@gmail.com'),\n",
      " ('Geras', 'Smagulis', 'gerulis@gmail.com'),\n",
      " ('Žalias', 'Programuotojas', 'coder@gmail.com')]\n"
     ]
    }
   ],
   "source": [
    "from pprint import pprint\n",
    "# nuskaitome visus duomenis į sąrašą su .fetchall()\n",
    "with connector:\n",
    "    cursor = connector.cursor()\n",
    "    cursor.execute(\"SELECT * FROM draugai;\")\n",
    "    pprint(cursor.fetchall()) # atkreipt dėmesį, kad čia PPRINT"
   ]
  },
  {
   "cell_type": "code",
   "execution_count": 27,
   "metadata": {},
   "outputs": [
    {
     "name": "stdout",
     "output_type": "stream",
     "text": [
      "[('Smagus', 'Gerulis', 'gerulis@gmail.com'), ('Geras', 'Smagulis', 'gerulis@gmail.com'), ('Žalias', 'Programuotojas', 'coder@gmail.com')]\n"
     ]
    }
   ],
   "source": [
    "# įrašų atnaujinimas\n",
    "with connector:\n",
    "    cursor = connector.cursor()\n",
    "    cursor.execute('UPDATE draugai SET first_name=\"Žalias\" WHERE last_name=\"Programuotojas\";')\n",
    "    cursor.execute(\"SELECT * FROM draugai;\")\n",
    "    print(cursor.fetchall())"
   ]
  },
  {
   "cell_type": "markdown",
   "metadata": {},
   "source": [
    "## excecutemany()"
   ]
  },
  {
   "cell_type": "code",
   "execution_count": 8,
   "metadata": {},
   "outputs": [],
   "source": [
    "nauji_draugai = [\n",
    "    ('Naujas', 'Draugelis', 'naujas@draugelis.lt'),\n",
    "    ('Grazi', 'Mergaite', 'grazuole@gmail.com'),\n",
    "    ('Senas', 'Diedulis', 'diedux@yahoo.com')\n",
    "]\n",
    "\n",
    "with connector:\n",
    "    cursor = connector.cursor()\n",
    "    cursor.executemany('INSERT INTO draugai VALUES (?,?,?)', (nauji_draugai))"
   ]
  },
  {
   "cell_type": "markdown",
   "metadata": {},
   "source": [
    "## Rowid"
   ]
  },
  {
   "cell_type": "code",
   "execution_count": 9,
   "metadata": {},
   "outputs": [
    {
     "name": "stdout",
     "output_type": "stream",
     "text": [
      "- (6, 'Blogas', 'Hakeris', 'haxxxxx@dark.net')\n",
      "- (7, 'Naujas', 'Draugelis', 'naujas@draugelis.lt')\n",
      "- (8, 'Grazi', 'Mergaite', 'grazuole@gmail.com')\n",
      "- (9, 'Senas', 'Diedulis', 'diedux@yahoo.com')\n"
     ]
    }
   ],
   "source": [
    "with connector:\n",
    "    cursor = connector.cursor()\n",
    "    cursor.execute('SELECT rowid, * FROM draugai WHERE rowid > 5')\n",
    "    draugai = cursor.fetchall()\n",
    "    for draugas in draugai:\n",
    "        print(f'- {draugas}')"
   ]
  },
  {
   "cell_type": "code",
   "execution_count": 11,
   "metadata": {},
   "outputs": [
    {
     "name": "stdout",
     "output_type": "stream",
     "text": [
      "- (1, 'Smagus', 'Gerulis', 'gerulis@gmail.com')\n",
      "- (3, 'Žalias', 'Programuotojas', 'coder@gmail.com')\n",
      "- (5, 'Grybas', 'Fungauskas', 'grybas@fungus.net')\n",
      "- (7, 'Naujas', 'Draugelis', 'naujas@draugelis.lt')\n"
     ]
    }
   ],
   "source": [
    "ids = (1, 3, 5, 7)\n",
    "with connector:\n",
    "    cursor = connector.cursor()\n",
    "    cursor.execute('SELECT rowid, * FROM draugai WHERE rowid IN (?, ?, ?, ?)', ids)\n",
    "    draugai = cursor.fetchall()\n",
    "    for draugas in draugai:\n",
    "        print(f'- {draugas}')"
   ]
  }
 ],
 "metadata": {
  "kernelspec": {
   "display_name": "Python 3.10.7 ('venv': venv)",
   "language": "python",
   "name": "python3"
  },
  "language_info": {
   "codemirror_mode": {
    "name": "ipython",
    "version": 3
   },
   "file_extension": ".py",
   "mimetype": "text/x-python",
   "name": "python",
   "nbconvert_exporter": "python",
   "pygments_lexer": "ipython3",
   "version": "3.10.7"
  },
  "orig_nbformat": 4,
  "vscode": {
   "interpreter": {
    "hash": "d8c82d33abf6118c12299dc94b4ab7d9752250968001013f3737125b591cd400"
   }
  }
 },
 "nbformat": 4,
 "nbformat_minor": 2
}
