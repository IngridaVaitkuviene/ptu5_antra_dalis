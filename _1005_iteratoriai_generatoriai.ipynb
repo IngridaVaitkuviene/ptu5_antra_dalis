{
 "cells": [
  {
   "cell_type": "markdown",
   "metadata": {},
   "source": [
    "# Iteratoriai"
   ]
  },
  {
   "cell_type": "markdown",
   "metadata": {},
   "source": [
    "Iteratorius - objektas, kurį galima iteruoti. Tai objektas, kuris grąžina duomenis, kas kartą naudojant metodą next().\n",
    "Iteratorius galima kurti iš bet kokių objektų, kuriuos galime iteruoti su for ciklais, pvz.: string, list, dict ir t.t."
   ]
  },
  {
   "cell_type": "code",
   "execution_count": 1,
   "metadata": {},
   "outputs": [
    {
     "name": "stdout",
     "output_type": "stream",
     "text": [
      "<class 'str_iterator'>\n"
     ]
    }
   ],
   "source": [
    "# Tarkime žodis \"Labas\" yra objektas iš kurio galime sukurti iteratorių:\n",
    "# iteratorius string\n",
    "iteratorius = iter(\"Labas\")\n",
    "print(type(iteratorius))"
   ]
  },
  {
   "cell_type": "code",
   "execution_count": 2,
   "metadata": {},
   "outputs": [
    {
     "name": "stdout",
     "output_type": "stream",
     "text": [
      "L\n"
     ]
    }
   ],
   "source": [
    "print(next(iteratorius))"
   ]
  },
  {
   "cell_type": "code",
   "execution_count": 3,
   "metadata": {},
   "outputs": [
    {
     "name": "stdout",
     "output_type": "stream",
     "text": [
      "5\n",
      "4\n",
      "7\n",
      "2\n"
     ]
    }
   ],
   "source": [
    "# kai tik bus iškviestas iteratoriaus metodas next(), \n",
    "# jis grąžins sekantį iteruojamo objekto segmentą, kol nebeliks ko iteruoti ir išmes StopIteration error:\n",
    "# iteratorius integer\n",
    "skaiciai = [5, 4, 7, 2]\n",
    "iterskai = iter(skaiciai)\n",
    "\n",
    "while True:\n",
    "    try:\n",
    "        print(next(iterskai))\n",
    "    except StopIteration:\n",
    "        break\n",
    "\n",
    "# ciklas viska laiko atmintyje, iteratoriaus pagalba, galima maziau atminties panaudoti, \n",
    "# taupo atminti, letesnis veikimas. Ciklas labai greitai veikia."
   ]
  },
  {
   "cell_type": "markdown",
   "metadata": {},
   "source": [
    "matuojam atminti"
   ]
  },
  {
   "cell_type": "code",
   "execution_count": 4,
   "metadata": {},
   "outputs": [
    {
     "name": "stdout",
     "output_type": "stream",
     "text": [
      "87707648\n"
     ]
    }
   ],
   "source": [
    "import os, psutil\n",
    "process = psutil.Process(os.getpid())\n",
    "print(process.memory_info().rss)\n",
    "\n",
    "# sunaudojam 94 mb"
   ]
  },
  {
   "cell_type": "code",
   "execution_count": 5,
   "metadata": {},
   "outputs": [],
   "source": [
    "# Universalus iteruoklis:\n",
    "\n",
    "def iteruoklis(objektas, funkcija):\n",
    "    iteratorius = iter(objektas)\n",
    "    while True:\n",
    "        try:\n",
    "            result = next(iteratorius)\n",
    "        except StopIteration:\n",
    "            break\n",
    "        else:\n",
    "            funkcija(result)"
   ]
  },
  {
   "cell_type": "code",
   "execution_count": 6,
   "metadata": {},
   "outputs": [
    {
     "name": "stdout",
     "output_type": "stream",
     "text": [
      "Jurgis\n",
      "Antanas\n",
      "Aloyzas\n",
      "Martynas\n"
     ]
    }
   ],
   "source": [
    "# Mūsų funkcija priima objektą (pvz. list'ą ar kt.) iš karto jį paverčia iteratoriumi. Tuomet, kol yra ką iteruoti,\n",
    "#  iteruoja ir praleidžia per mūsų funkciją argumentuose funkcija. Pvz.:\n",
    "\n",
    "broliai = ['Jurgis', 'Antanas', 'Aloyzas', 'Martynas']\n",
    "iteruoklis(broliai, print)"
   ]
  },
  {
   "cell_type": "code",
   "execution_count": 7,
   "metadata": {},
   "outputs": [
    {
     "name": "stdout",
     "output_type": "stream",
     "text": [
      "3.3166247903554\n",
      "2.23606797749979\n",
      "3.0\n",
      "8.774964387392123\n",
      "6.48074069840786\n",
      "8.306623862918075\n",
      "4.58257569495584\n"
     ]
    }
   ],
   "source": [
    "# Šiuo atveju pritaikėme Python integruotą funkciją print, taigi mums bus paprasčiausiai atspausdinti brolių vardai. \n",
    "# Galime panaudoti savo sukurtą funkciją, tarkime:\n",
    "from math import sqrt\n",
    "def print_sqrt(skaicius):\n",
    "    print(sqrt(abs(skaicius)))\n",
    "\n",
    "skaiciai = [11, 5, 9, 77, 42, 69, -21]\n",
    "iteruoklis(skaiciai, print_sqrt)"
   ]
  },
  {
   "cell_type": "code",
   "execution_count": 9,
   "metadata": {},
   "outputs": [
    {
     "name": "stdout",
     "output_type": "stream",
     "text": [
      "senas\n",
      "jaunas\n",
      "99\n",
      "18\n",
      "('senas', 99)\n",
      "('jaunas', 18)\n"
     ]
    }
   ],
   "source": [
    "dictas = {\"senas\": 99, \"jaunas\": 18}\n",
    "iteruoklis(dictas, print)\n",
    "iteruoklis(dictas.values(), print)\n",
    "iteruoklis(dictas.items(), print)"
   ]
  },
  {
   "cell_type": "markdown",
   "metadata": {},
   "source": [
    "# Generatoriai"
   ]
  },
  {
   "cell_type": "markdown",
   "metadata": {},
   "source": [
    "    Generatoriai yra iteratorių rūšis. Jie yra paprastesnis būdas kurti iteratorius;\n",
    "    Generatoriai kuriami naudojant generatorių funkcijas;\n",
    "    Generatorių funkcijų ypatumas yra tas, kad vietoje return naudojame yield;"
   ]
  },
  {
   "cell_type": "code",
   "execution_count": 23,
   "metadata": {},
   "outputs": [],
   "source": [
    "# generatorius\n",
    "def skaiciuojam(iki):\n",
    "    count = 1\n",
    "    while count <= iki:\n",
    "        yield count\n",
    "        count +=1 # pratesiam skaitliuka"
   ]
  },
  {
   "cell_type": "code",
   "execution_count": 24,
   "metadata": {},
   "outputs": [],
   "source": [
    "# čia yra generatoriaus funkcija. Iš jos galime susikurti generatorių ir analogiškai, kaip ir su kitais iteratoriais, \n",
    "# galime iškvieti funkciją next:\n",
    "counter = skaiciuojam(5)\n"
   ]
  },
  {
   "cell_type": "code",
   "execution_count": 25,
   "metadata": {},
   "outputs": [
    {
     "name": "stdout",
     "output_type": "stream",
     "text": [
      "1\n"
     ]
    }
   ],
   "source": [
    "print(next(counter))\n",
    "# Kaip matome, veiksmas vyksta vienodai, kaip ir su iteratoriais, nes generatorius ir yra iteratorius."
   ]
  },
  {
   "cell_type": "code",
   "execution_count": 26,
   "metadata": {},
   "outputs": [
    {
     "name": "stdout",
     "output_type": "stream",
     "text": [
      "1\n",
      "2\n",
      "3\n",
      "4\n",
      "5\n",
      "6\n",
      "7\n"
     ]
    }
   ],
   "source": [
    "iteruoklis(skaiciuojam(7), print)"
   ]
  },
  {
   "cell_type": "code",
   "execution_count": 27,
   "metadata": {},
   "outputs": [
    {
     "name": "stdout",
     "output_type": "stream",
     "text": [
      "[1, 2, 3, 4, 5, 6, 7, 8, 9, 10, 11]\n"
     ]
    }
   ],
   "source": [
    "# generatorius galima paversti į list'us:\n",
    "skaiciai = skaiciuojam(11)\n",
    "print(list(skaiciai))"
   ]
  },
  {
   "cell_type": "code",
   "execution_count": 28,
   "metadata": {},
   "outputs": [
    {
     "name": "stdout",
     "output_type": "stream",
     "text": [
      "1\n",
      "2\n",
      "3\n"
     ]
    }
   ],
   "source": [
    "# Ir juos iteruoti su paprastais for ciklais:\n",
    "skaiciai = list(skaiciuojam(3))\n",
    "for skaicius in skaiciai:\n",
    "    print(skaicius)"
   ]
  },
  {
   "cell_type": "code",
   "execution_count": 29,
   "metadata": {},
   "outputs": [
    {
     "name": "stdout",
     "output_type": "stream",
     "text": [
      "1\n",
      "2\n",
      "3\n",
      "[4, 5, 6, 7, 8, 9, 10]\n"
     ]
    }
   ],
   "source": [
    "skaiciai = skaiciuojam(10)\n",
    "print(next(skaiciai))\n",
    "print(next(skaiciai))\n",
    "print(next(skaiciai))\n",
    "print(list(skaiciai))\n",
    "\n",
    "#šis pavyzdys iliustruoja, kaip veikia generatoriai - jie nekaupia viso turinio atmintyje, \n",
    "# o tik įsidėmi momentinę reikšmę, kurios pagrindu generuoja sekančią. \n",
    "# 1, 2, 3 reikšmės buvo panaudotos ir išmestos, o sąrašas suformuotas tik iš to, kas liko. \n",
    "# Dėl to generatoriai veikia gerokai sparčiau už įprastus for loops.\n",
    "\n",
    "# next() funkcija ismeta is saraso skaicius"
   ]
  },
  {
   "cell_type": "code",
   "execution_count": 30,
   "metadata": {},
   "outputs": [
    {
     "name": "stdout",
     "output_type": "stream",
     "text": [
      "[0, 1, 4, 9, 16, 25, 36, 49, 64, 81]\n"
     ]
    }
   ],
   "source": [
    "# Yra dar vienas metodas generatoriams kurti - generator expressions. \n",
    "# list comprehension Tai yra analogiškas sintaksinis palengvinimas kurti generatoriams. Pvz.:\n",
    "\n",
    "gen = (x ** 2 for x in range(10))\n",
    "print(list(gen))\n",
    "# atspausdina nuo 0 iki 9 pakeltus kvadratu"
   ]
  },
  {
   "cell_type": "code",
   "execution_count": 31,
   "metadata": {},
   "outputs": [
    {
     "name": "stdout",
     "output_type": "stream",
     "text": [
      "0.0\n",
      "1.0\n",
      "2.0\n",
      "3.0\n",
      "4.0\n",
      "5.0\n",
      "6.0\n",
      "7.0\n",
      "8.0\n",
      "9.0\n"
     ]
    }
   ],
   "source": [
    "gen = (x ** 2 for x in range(10))\n",
    "iteruoklis(gen, print_sqrt) # isspausdina sakni"
   ]
  },
  {
   "cell_type": "code",
   "execution_count": 32,
   "metadata": {},
   "outputs": [
    {
     "name": "stdout",
     "output_type": "stream",
     "text": [
      "[0, 1, 4, 9, 16, 25, 36, 49, 64, 81]\n",
      "0\n",
      "1\n",
      "4\n",
      "9\n",
      "16\n",
      "25\n",
      "36\n",
      "49\n",
      "64\n",
      "81\n",
      "0.0\n",
      "1.0\n",
      "2.0\n",
      "3.0\n",
      "4.0\n",
      "5.0\n",
      "6.0\n",
      "7.0\n",
      "8.0\n",
      "9.0\n"
     ]
    }
   ],
   "source": [
    "gen = (x ** 2 for x in range(10))\n",
    "print(list(gen))\n",
    "gen = (x ** 2 for x in range(10))\n",
    "iteruoklis(gen, print)\n",
    "gen = (x ** 2 for x in range(10))\n",
    "iteruoklis(gen, print_sqrt)"
   ]
  },
  {
   "cell_type": "code",
   "execution_count": 56,
   "metadata": {},
   "outputs": [],
   "source": [
    "# Parašykite generatorių, kuris kaskartą inicijuotas su funkcija next grąžintų sekantį porinį skaičių. Pirmas sk. 2, toliau 4 ir taip be pabaigos.\n",
    "def skaiciuojam_porinius(iki):\n",
    "    for skaicius in range(iki):\n",
    "        if skaicius >= 2 and skaicius % 2 == 0:\n",
    "            yield skaicius\n"
   ]
  },
  {
   "cell_type": "code",
   "execution_count": 57,
   "metadata": {},
   "outputs": [],
   "source": [
    "counter = skaiciuojam_porinius(30)"
   ]
  },
  {
   "cell_type": "code",
   "execution_count": 68,
   "metadata": {},
   "outputs": [
    {
     "name": "stdout",
     "output_type": "stream",
     "text": [
      "22\n"
     ]
    }
   ],
   "source": [
    "print(next(counter))"
   ]
  }
 ],
 "metadata": {
  "kernelspec": {
   "display_name": "Python 3.10.7 64-bit (microsoft store)",
   "language": "python",
   "name": "python3"
  },
  "language_info": {
   "codemirror_mode": {
    "name": "ipython",
    "version": 3
   },
   "file_extension": ".py",
   "mimetype": "text/x-python",
   "name": "python",
   "nbconvert_exporter": "python",
   "pygments_lexer": "ipython3",
   "version": "3.10.7"
  },
  "orig_nbformat": 4,
  "vscode": {
   "interpreter": {
    "hash": "226a6557de7c55ceb3c57886721178388878c0c93e269ceec596b19a7863b7cd"
   }
  }
 },
 "nbformat": 4,
 "nbformat_minor": 2
}
