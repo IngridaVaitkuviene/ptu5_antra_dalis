{
 "cells": [
  {
   "cell_type": "markdown",
   "metadata": {},
   "source": [
    "1. Parašykite dekoratorių kuris riboja parametrų kiekį (tarkime, ne daugiau negu 2 parametrai funkcijai)"
   ]
  },
  {
   "cell_type": "code",
   "execution_count": 1,
   "metadata": {},
   "outputs": [],
   "source": [
    "def parametru_kiekis(funkcija):\n",
    "    def wrapper(*args, **kwargs):\n",
    "        # jei args'u daugiau, kaip 2\n",
    "        if len(args) > 2:\n",
    "            return \"Args'u, t.y. parametru, turi buti ne daugiau dvieju\"\n",
    "        return funkcija(*args, **kwargs)\n",
    "    return wrapper"
   ]
  },
  {
   "cell_type": "markdown",
   "metadata": {},
   "source": [
    "2. Parašykite dekoratorių, kuris leidžia į funkciją įrašyti tik string tipo parametrus."
   ]
  },
  {
   "cell_type": "code",
   "execution_count": 2,
   "metadata": {},
   "outputs": [],
   "source": [
    "def tik_stringai(funkcija):\n",
    "    def wrapper(*args, **kwargs):\n",
    "        for i in args:\n",
    "            if type(i) != str:\n",
    "                return \"Args'ai turi buti tik str'ai\"\n",
    "        return funkcija(*args, **kwargs)\n",
    "    return wrapper"
   ]
  }
 ],
 "metadata": {
  "kernelspec": {
   "display_name": "Python 3.10.7 ('venv': venv)",
   "language": "python",
   "name": "python3"
  },
  "language_info": {
   "codemirror_mode": {
    "name": "ipython",
    "version": 3
   },
   "file_extension": ".py",
   "mimetype": "text/x-python",
   "name": "python",
   "nbconvert_exporter": "python",
   "pygments_lexer": "ipython3",
   "version": "3.10.7"
  },
  "orig_nbformat": 4,
  "vscode": {
   "interpreter": {
    "hash": "d8c82d33abf6118c12299dc94b4ab7d9752250968001013f3737125b591cd400"
   }
  }
 },
 "nbformat": 4,
 "nbformat_minor": 2
}
